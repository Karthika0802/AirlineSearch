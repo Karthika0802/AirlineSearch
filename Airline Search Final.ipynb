{
  "cells": [
    {
      "cell_type": "code",
      "execution_count": 488,
      "id": "3b1e7b68",
      "metadata": {},
      "outputs": [],
      "source": [
        "#Note this is just for Karthik\n",
        "import findspark\n",
        "findspark.init('/home/karthik/spark-3.0.3-bin-hadoop3.2/')"
      ]
    },
    {
      "cell_type": "markdown",
      "id": "8WoXxq84JT1n",
      "metadata": {
        "id": "8WoXxq84JT1n"
      },
      "source": [
        "# Milestone 2 (Data Prep)"
      ]
    },
    {
      "cell_type": "markdown",
      "id": "a1LrQdcI__EG",
      "metadata": {
        "id": "a1LrQdcI__EG"
      },
      "source": [
        "## Notebook setup\n",
        "\n",
        "Importation of nessecary libraries and starting spark"
      ]
    },
    {
      "cell_type": "code",
      "execution_count": 489,
      "id": "037beee0",
      "metadata": {
        "id": "037beee0",
        "outputId": "2b61ccf3-a8ce-4567-e3b1-785c7bffd9c8"
      },
      "outputs": [
        {
          "name": "stderr",
          "output_type": "stream",
          "text": [
            "21/12/08 19:30:05 WARN UDTRegistration: Cannot register UDT for org.locationtech.jts.geom.Geometry, which is already registered.\n",
            "21/12/08 19:30:05 WARN UDTRegistration: Cannot register UDT for org.locationtech.jts.index.SpatialIndex, which is already registered.\n",
            "21/12/08 19:30:05 WARN SimpleFunctionRegistry: The function st_pointfromtext replaced a previously registered function.\n",
            "21/12/08 19:30:05 WARN SimpleFunctionRegistry: The function st_polygonfromtext replaced a previously registered function.\n",
            "21/12/08 19:30:05 WARN SimpleFunctionRegistry: The function st_linestringfromtext replaced a previously registered function.\n",
            "21/12/08 19:30:05 WARN SimpleFunctionRegistry: The function st_geomfromtext replaced a previously registered function.\n",
            "21/12/08 19:30:05 WARN SimpleFunctionRegistry: The function st_geomfromwkt replaced a previously registered function.\n",
            "21/12/08 19:30:05 WARN SimpleFunctionRegistry: The function st_geomfromwkb replaced a previously registered function.\n",
            "21/12/08 19:30:05 WARN SimpleFunctionRegistry: The function st_geomfromgeojson replaced a previously registered function.\n",
            "21/12/08 19:30:05 WARN SimpleFunctionRegistry: The function st_point replaced a previously registered function.\n",
            "21/12/08 19:30:05 WARN SimpleFunctionRegistry: The function st_polygonfromenvelope replaced a previously registered function.\n",
            "21/12/08 19:30:05 WARN SimpleFunctionRegistry: The function st_contains replaced a previously registered function.\n",
            "21/12/08 19:30:05 WARN SimpleFunctionRegistry: The function st_intersects replaced a previously registered function.\n",
            "21/12/08 19:30:05 WARN SimpleFunctionRegistry: The function st_within replaced a previously registered function.\n",
            "21/12/08 19:30:05 WARN SimpleFunctionRegistry: The function st_distance replaced a previously registered function.\n",
            "21/12/08 19:30:05 WARN SimpleFunctionRegistry: The function st_convexhull replaced a previously registered function.\n",
            "21/12/08 19:30:05 WARN SimpleFunctionRegistry: The function st_npoints replaced a previously registered function.\n",
            "21/12/08 19:30:05 WARN SimpleFunctionRegistry: The function st_buffer replaced a previously registered function.\n",
            "21/12/08 19:30:05 WARN SimpleFunctionRegistry: The function st_envelope replaced a previously registered function.\n",
            "21/12/08 19:30:05 WARN SimpleFunctionRegistry: The function st_length replaced a previously registered function.\n",
            "21/12/08 19:30:05 WARN SimpleFunctionRegistry: The function st_area replaced a previously registered function.\n",
            "21/12/08 19:30:05 WARN SimpleFunctionRegistry: The function st_centroid replaced a previously registered function.\n",
            "21/12/08 19:30:05 WARN SimpleFunctionRegistry: The function st_transform replaced a previously registered function.\n",
            "21/12/08 19:30:05 WARN SimpleFunctionRegistry: The function st_intersection replaced a previously registered function.\n",
            "21/12/08 19:30:05 WARN SimpleFunctionRegistry: The function st_isvalid replaced a previously registered function.\n",
            "21/12/08 19:30:05 WARN SimpleFunctionRegistry: The function st_precisionreduce replaced a previously registered function.\n",
            "21/12/08 19:30:05 WARN SimpleFunctionRegistry: The function st_equals replaced a previously registered function.\n",
            "21/12/08 19:30:05 WARN SimpleFunctionRegistry: The function st_touches replaced a previously registered function.\n",
            "21/12/08 19:30:05 WARN SimpleFunctionRegistry: The function st_overlaps replaced a previously registered function.\n",
            "21/12/08 19:30:05 WARN SimpleFunctionRegistry: The function st_crosses replaced a previously registered function.\n",
            "21/12/08 19:30:05 WARN SimpleFunctionRegistry: The function st_issimple replaced a previously registered function.\n",
            "21/12/08 19:30:05 WARN SimpleFunctionRegistry: The function st_makevalid replaced a previously registered function.\n",
            "21/12/08 19:30:05 WARN SimpleFunctionRegistry: The function st_simplifypreservetopology replaced a previously registered function.\n",
            "21/12/08 19:30:05 WARN SimpleFunctionRegistry: The function st_astext replaced a previously registered function.\n",
            "21/12/08 19:30:05 WARN SimpleFunctionRegistry: The function st_asgeojson replaced a previously registered function.\n",
            "21/12/08 19:30:05 WARN SimpleFunctionRegistry: The function st_geometrytype replaced a previously registered function.\n",
            "21/12/08 19:30:05 WARN SimpleFunctionRegistry: The function st_numgeometries replaced a previously registered function.\n",
            "21/12/08 19:30:05 WARN SimpleFunctionRegistry: The function st_linemerge replaced a previously registered function.\n",
            "21/12/08 19:30:05 WARN SimpleFunctionRegistry: The function st_azimuth replaced a previously registered function.\n",
            "21/12/08 19:30:05 WARN SimpleFunctionRegistry: The function st_x replaced a previously registered function.\n",
            "21/12/08 19:30:05 WARN SimpleFunctionRegistry: The function st_y replaced a previously registered function.\n",
            "21/12/08 19:30:05 WARN SimpleFunctionRegistry: The function st_startpoint replaced a previously registered function.\n",
            "21/12/08 19:30:05 WARN SimpleFunctionRegistry: The function st_boundary replaced a previously registered function.\n",
            "21/12/08 19:30:05 WARN SimpleFunctionRegistry: The function st_minimumboundingradius replaced a previously registered function.\n",
            "21/12/08 19:30:05 WARN SimpleFunctionRegistry: The function st_minimumboundingcircle replaced a previously registered function.\n",
            "21/12/08 19:30:05 WARN SimpleFunctionRegistry: The function st_endpoint replaced a previously registered function.\n",
            "21/12/08 19:30:05 WARN SimpleFunctionRegistry: The function st_exteriorring replaced a previously registered function.\n",
            "21/12/08 19:30:05 WARN SimpleFunctionRegistry: The function st_geometryn replaced a previously registered function.\n",
            "21/12/08 19:30:05 WARN SimpleFunctionRegistry: The function st_interiorringn replaced a previously registered function.\n",
            "21/12/08 19:30:05 WARN SimpleFunctionRegistry: The function st_dump replaced a previously registered function.\n",
            "21/12/08 19:30:05 WARN SimpleFunctionRegistry: The function st_dumppoints replaced a previously registered function.\n",
            "21/12/08 19:30:05 WARN SimpleFunctionRegistry: The function st_isclosed replaced a previously registered function.\n",
            "21/12/08 19:30:05 WARN SimpleFunctionRegistry: The function st_numinteriorrings replaced a previously registered function.\n",
            "21/12/08 19:30:05 WARN SimpleFunctionRegistry: The function st_addpoint replaced a previously registered function.\n",
            "21/12/08 19:30:05 WARN SimpleFunctionRegistry: The function st_removepoint replaced a previously registered function.\n",
            "21/12/08 19:30:05 WARN SimpleFunctionRegistry: The function st_isring replaced a previously registered function.\n",
            "21/12/08 19:30:05 WARN SimpleFunctionRegistry: The function st_flipcoordinates replaced a previously registered function.\n",
            "21/12/08 19:30:05 WARN SimpleFunctionRegistry: The function st_linesubstring replaced a previously registered function.\n",
            "21/12/08 19:30:05 WARN SimpleFunctionRegistry: The function st_lineinterpolatepoint replaced a previously registered function.\n",
            "21/12/08 19:30:05 WARN SimpleFunctionRegistry: The function st_union_aggr replaced a previously registered function.\n",
            "21/12/08 19:30:05 WARN SimpleFunctionRegistry: The function st_envelope_aggr replaced a previously registered function.\n",
            "21/12/08 19:30:05 WARN SimpleFunctionRegistry: The function st_intersection_aggr replaced a previously registered function.\n"
          ]
        },
        {
          "data": {
            "text/plain": [
              "True"
            ]
          },
          "execution_count": 489,
          "metadata": {},
          "output_type": "execute_result"
        }
      ],
      "source": [
        "from pyspark.sql import SparkSession\n",
        "from sedona.register import SedonaRegistrator\n",
        "from sedona.utils import SedonaKryoRegistrator, KryoSerializer\n",
        "import geopandas as gpd\n",
        "import pandas as pd\n",
        "\n",
        "spark = SparkSession. \\\n",
        "    builder. \\\n",
        "    appName('Milestone4 - Airline Search'). \\\n",
        "    master('spark://karthik-rogstrixg15:7077'). \\\n",
        "    config(\"spark.serializer\", KryoSerializer.getName). \\\n",
        "    config(\"spark.kryo.registrator\", SedonaKryoRegistrator.getName). \\\n",
        "    config('spark.jars.packages',\n",
        "           'org.apache.sedona:sedona-python-adapter-3.0_2.12:1.0.1-incubating,'\n",
        "           'org.datasyslab:geotools-wrapper:geotools-24.1'). \\\n",
        "    getOrCreate()\n",
        "\n",
        "SedonaRegistrator.registerAll(spark)"
      ]
    },
    {
      "cell_type": "markdown",
      "id": "dxxJZprnGkfs",
      "metadata": {
        "id": "dxxJZprnGkfs"
      },
      "source": [
        "## Data Collection\n",
        "\n",
        "Get the data for the boundary of each state in the form of a well-known-text(wkt) polygon representation of all US state-borders as well as the data for the cities of Pullman and Phoenix and their coordinates. \n",
        "\n",
        "\n"
      ]
    },
    {
      "cell_type": "code",
      "execution_count": 490,
      "id": "1f8470ba",
      "metadata": {
        "id": "1f8470ba",
        "outputId": "0280aab3-c767-42d8-800a-afe7342d4d3b",
        "scrolled": false
      },
      "outputs": [
        {
          "name": "stdout",
          "output_type": "stream",
          "text": [
            "--2021-12-08 19:30:05--  https://raw.githubusercontent.com/DataOceanLab/CPTS-415-Project-Examples/main/boundary-each-state.tsv\n",
            "SSL_INIT\n",
            "Loaded CA certificate '/etc/ssl/certs/ca-certificates.crt'\n",
            "Resolving raw.githubusercontent.com (raw.githubusercontent.com)... 185.199.109.133, 185.199.110.133, 185.199.111.133, ...\n",
            "Connecting to raw.githubusercontent.com (raw.githubusercontent.com)|185.199.109.133|:443... connected.\n",
            "HTTP request sent, awaiting response... 200 OK\n",
            "Length: 60085 (59K) [text/plain]\n",
            "Saving to: ‘boundary-each-state.tsv.10’\n",
            "\n",
            "boundary-each-state 100%[===================>]  58.68K  --.-KB/s    in 0.007s  \n",
            "\n",
            "2021-12-08 19:30:05 (8.77 MB/s) - ‘boundary-each-state.tsv.10’ saved [60085/60085]\n",
            "\n"
          ]
        }
      ],
      "source": [
        "!wget https://raw.githubusercontent.com/DataOceanLab/CPTS-415-Project-Examples/main/boundary-each-state.tsv"
      ]
    },
    {
      "cell_type": "code",
      "execution_count": 491,
      "id": "7e35ebb8",
      "metadata": {
        "id": "7e35ebb8",
        "outputId": "159aac23-3e74-4c4a-c05d-cc4e5cbae137",
        "scrolled": false
      },
      "outputs": [
        {
          "name": "stdout",
          "output_type": "stream",
          "text": [
            "--2021-12-08 19:30:05--  https://raw.githubusercontent.com/DataOceanLab/CPTS-415-Project-Examples/main/cities.csv\n",
            "SSL_INIT\n",
            "Loaded CA certificate '/etc/ssl/certs/ca-certificates.crt'\n",
            "Resolving raw.githubusercontent.com (raw.githubusercontent.com)... 185.199.108.133, 185.199.110.133, 185.199.109.133, ...\n",
            "Connecting to raw.githubusercontent.com (raw.githubusercontent.com)|185.199.108.133|:443... connected.\n",
            "HTTP request sent, awaiting response... 200 OK\n",
            "Length: 60 [text/plain]\n",
            "Saving to: ‘cities.csv.10’\n",
            "\n",
            "cities.csv.10       100%[===================>]      60  --.-KB/s    in 0s      \n",
            "\n",
            "2021-12-08 19:30:05 (1.35 MB/s) - ‘cities.csv.10’ saved [60/60]\n",
            "\n"
          ]
        }
      ],
      "source": [
        "!wget https://raw.githubusercontent.com/DataOceanLab/CPTS-415-Project-Examples/main/cities.csv"
      ]
    },
    {
      "cell_type": "markdown",
      "id": "JkHBZaPTfdp3",
      "metadata": {
        "id": "JkHBZaPTfdp3"
      },
      "source": [
        "## **Load state boundries in WKT TSV and convert WKT string column to a geometry column**\n",
        "\n"
      ]
    },
    {
      "cell_type": "markdown",
      "id": "P1iBUCi1QHxS",
      "metadata": {
        "id": "P1iBUCi1QHxS"
      },
      "source": [
        "Upload the file containing the boundary for each city by delimiting it by tabspace characters and then convert into dataframe."
      ]
    },
    {
      "cell_type": "code",
      "execution_count": 492,
      "id": "fde01871",
      "metadata": {
        "id": "fde01871",
        "outputId": "46bfe07f-27bd-46f5-91a1-9eb7b48e41ee"
      },
      "outputs": [
        {
          "name": "stdout",
          "output_type": "stream",
          "text": [
            "+-------------+--------------------+\n",
            "|       s_name|             s_bound|\n",
            "+-------------+--------------------+\n",
            "|       Alaska|POLYGON((-141.020...|\n",
            "|      Alabama|POLYGON((-88.1955...|\n",
            "|     Arkansas|POLYGON((-94.0416...|\n",
            "|      Arizona|POLYGON((-112.598...|\n",
            "|   California|POLYGON((-124.400...|\n",
            "|     Colorado|POLYGON((-109.044...|\n",
            "|  Connecticut|POLYGON((-73.4875...|\n",
            "|     Delaware|POLYGON((-75.7919...|\n",
            "|      Florida|POLYGON((-87.6050...|\n",
            "|      Georgia|POLYGON((-85.6082...|\n",
            "|       Hawaii|POLYGON((-154.628...|\n",
            "|         Iowa|POLYGON((-95.7623...|\n",
            "|        Idaho|POLYGON((-117.031...|\n",
            "|     Illinois|POLYGON((-90.6290...|\n",
            "|      Indiana|POLYGON((-87.5253...|\n",
            "|       Kansas|POLYGON((-102.050...|\n",
            "|     Kentucky|POLYGON((-89.5372...|\n",
            "|    Louisiana|POLYGON((-94.0430...|\n",
            "|Massachusetts|POLYGON((-72.7789...|\n",
            "|     Maryland|POLYGON((-79.4778...|\n",
            "+-------------+--------------------+\n",
            "only showing top 20 rows\n",
            "\n",
            "root\n",
            " |-- s_name: string (nullable = true)\n",
            " |-- s_bound: string (nullable = true)\n",
            "\n",
            "+-------------+--------------------+\n",
            "|       s_name|             s_bound|\n",
            "+-------------+--------------------+\n",
            "|       Alaska|POLYGON ((-141.02...|\n",
            "|      Alabama|POLYGON ((-88.195...|\n",
            "|     Arkansas|POLYGON ((-94.041...|\n",
            "|      Arizona|POLYGON ((-112.59...|\n",
            "|   California|POLYGON ((-124.40...|\n",
            "|     Colorado|POLYGON ((-109.04...|\n",
            "|  Connecticut|POLYGON ((-73.487...|\n",
            "|     Delaware|POLYGON ((-75.791...|\n",
            "|      Florida|POLYGON ((-87.605...|\n",
            "|      Georgia|POLYGON ((-85.608...|\n",
            "|       Hawaii|POLYGON ((-154.62...|\n",
            "|         Iowa|POLYGON ((-95.762...|\n",
            "|        Idaho|POLYGON ((-117.03...|\n",
            "|     Illinois|POLYGON ((-90.629...|\n",
            "|      Indiana|POLYGON ((-87.525...|\n",
            "|       Kansas|POLYGON ((-102.05...|\n",
            "|     Kentucky|POLYGON ((-89.537...|\n",
            "|    Louisiana|POLYGON ((-94.043...|\n",
            "|Massachusetts|POLYGON ((-72.778...|\n",
            "|     Maryland|POLYGON ((-79.477...|\n",
            "+-------------+--------------------+\n",
            "only showing top 20 rows\n",
            "\n",
            "root\n",
            " |-- s_name: string (nullable = true)\n",
            " |-- s_bound: geometry (nullable = false)\n",
            "\n"
          ]
        }
      ],
      "source": [
        "states_wkt = spark.read.option(\"delimiter\", \"\\t\").option(\"header\", \"false\").csv(\"boundary-each-state.tsv\").toDF(\"s_name\",\"s_bound\")\n",
        "states_wkt.show()\n",
        "states_wkt.printSchema()\n",
        "\n",
        "states = states_wkt.selectExpr(\"s_name\", \"ST_GeomFromWKT(s_bound) as s_bound\")\n",
        "states.show()\n",
        "states.printSchema()\n",
        "states.createOrReplaceTempView(\"states\")"
      ]
    },
    {
      "cell_type": "markdown",
      "id": "e0EwHvERPHW0",
      "metadata": {
        "id": "e0EwHvERPHW0"
      },
      "source": [
        "More data collection\n",
        "\n",
        "Importation of more data including the airports, airlines and routes"
      ]
    },
    {
      "cell_type": "code",
      "execution_count": 493,
      "id": "47bf4a7c",
      "metadata": {
        "id": "47bf4a7c",
        "outputId": "de098d34-5d0c-4e30-dda4-032bf2fb1347"
      },
      "outputs": [
        {
          "name": "stdout",
          "output_type": "stream",
          "text": [
            "--2021-12-08 19:30:06--  https://raw.githubusercontent.com/jpatokal/openflights/master/data/airports.dat\n",
            "SSL_INIT\n",
            "Loaded CA certificate '/etc/ssl/certs/ca-certificates.crt'\n",
            "Resolving raw.githubusercontent.com (raw.githubusercontent.com)... 185.199.109.133, 185.199.108.133, 185.199.111.133, ...\n",
            "Connecting to raw.githubusercontent.com (raw.githubusercontent.com)|185.199.109.133|:443... connected.\n",
            "HTTP request sent, awaiting response... 200 OK\n",
            "Length: 1127225 (1.1M) [text/plain]\n",
            "Saving to: ‘airports.dat.9’\n",
            "\n",
            "airports.dat.9      100%[===================>]   1.07M  --.-KB/s    in 0.1s    \n",
            "\n",
            "2021-12-08 19:30:06 (9.89 MB/s) - ‘airports.dat.9’ saved [1127225/1127225]\n",
            "\n"
          ]
        }
      ],
      "source": [
        "!wget https://raw.githubusercontent.com/jpatokal/openflights/master/data/airports.dat"
      ]
    },
    {
      "cell_type": "markdown",
      "id": "Ud93_4wMe_39",
      "metadata": {
        "id": "Ud93_4wMe_39"
      },
      "source": []
    },
    {
      "cell_type": "code",
      "execution_count": 494,
      "id": "13c4077b",
      "metadata": {
        "id": "13c4077b",
        "outputId": "4ef8620d-7452-40f4-b2db-d0b4d7849103"
      },
      "outputs": [
        {
          "name": "stdout",
          "output_type": "stream",
          "text": [
            "--2021-12-08 19:30:06--  https://raw.githubusercontent.com/jpatokal/openflights/master/data/airlines.dat\n",
            "SSL_INIT\n",
            "Loaded CA certificate '/etc/ssl/certs/ca-certificates.crt'\n",
            "Resolving raw.githubusercontent.com (raw.githubusercontent.com)... 185.199.109.133, 185.199.110.133, 185.199.111.133, ...\n",
            "Connecting to raw.githubusercontent.com (raw.githubusercontent.com)|185.199.109.133|:443... connected.\n",
            "HTTP request sent, awaiting response... 200 OK\n",
            "Length: 396896 (388K) [text/plain]\n",
            "Saving to: ‘airlines.dat.9’\n",
            "\n",
            "airlines.dat.9      100%[===================>] 387.59K  --.-KB/s    in 0.04s   \n",
            "\n",
            "2021-12-08 19:30:06 (10.1 MB/s) - ‘airlines.dat.9’ saved [396896/396896]\n",
            "\n"
          ]
        }
      ],
      "source": [
        "!wget https://raw.githubusercontent.com/jpatokal/openflights/master/data/airlines.dat"
      ]
    },
    {
      "cell_type": "markdown",
      "id": "C1ajTmeOeoqS",
      "metadata": {
        "id": "C1ajTmeOeoqS"
      },
      "source": [
        "Get data about the routes from and to cities.\n"
      ]
    },
    {
      "cell_type": "code",
      "execution_count": 495,
      "id": "84197ec9",
      "metadata": {
        "id": "84197ec9",
        "outputId": "da5a317c-c8f5-4776-a551-4787ff4e247b"
      },
      "outputs": [
        {
          "name": "stdout",
          "output_type": "stream",
          "text": [
            "--2021-12-08 19:30:06--  https://raw.githubusercontent.com/jpatokal/openflights/master/data/routes.dat\n",
            "SSL_INIT\n",
            "Loaded CA certificate '/etc/ssl/certs/ca-certificates.crt'\n",
            "Resolving raw.githubusercontent.com (raw.githubusercontent.com)... 185.199.109.133, 185.199.108.133, 185.199.111.133, ...\n",
            "Connecting to raw.githubusercontent.com (raw.githubusercontent.com)|185.199.109.133|:443... connected.\n",
            "HTTP request sent, awaiting response... 200 OK\n",
            "Length: 2377148 (2.3M) [text/plain]\n",
            "Saving to: ‘routes.dat.9’\n",
            "\n",
            "routes.dat.9        100%[===================>]   2.27M  11.0MB/s    in 0.2s    \n",
            "\n",
            "2021-12-08 19:30:07 (11.0 MB/s) - ‘routes.dat.9’ saved [2377148/2377148]\n",
            "\n"
          ]
        }
      ],
      "source": [
        "!wget https://raw.githubusercontent.com/jpatokal/openflights/master/data/routes.dat"
      ]
    },
    {
      "cell_type": "markdown",
      "id": "tYKehgdUPbt8",
      "metadata": {
        "id": "tYKehgdUPbt8"
      },
      "source": [
        "## Data Cleaning\n",
        "### **Importing airports.dat and perform data cleaning**\n",
        "Cleaning the data by getting rid of anything unnessecary from the datasets while also turning the raw data into dataframes for further maneuvarability\n",
        "\n",
        "\n",
        "For  routes.dat there are some null values for either “source airport ID” or “destination airport ID”, We used the 3 letter codes to fill in those IDs from airports.dat\n",
        "For airport.dat and airline.dat there are also null values for either the alias, the IATA id or the ICAO we replace these values by N/A.\n",
        "\n",
        "We drop equipment from routes.dat because it is not required in the project description. \n",
        "We drop all time zone attributes in airports.dat because those are not in the project description\n",
        "We drop callsign from airline.dat for the same reason.\n",
        "\n"
      ]
    },
    {
      "cell_type": "code",
      "execution_count": 496,
      "id": "2eaee316",
      "metadata": {
        "id": "2eaee316",
        "outputId": "0bcbe668-932f-4027-a9dc-7abf0a02260f"
      },
      "outputs": [
        {
          "name": "stdout",
          "output_type": "stream",
          "text": [
            "+---------+--------------------+--------------+----------------+----+----+--------------------+\n",
            "|AirportID|                Name|          City|         Country|IATA|ICAO| geospacial_Location|\n",
            "+---------+--------------------+--------------+----------------+----+----+--------------------+\n",
            "|        1|      Goroka Airport|        Goroka|Papua New Guinea| GKA|AYGA|POINT (145.391998...|\n",
            "|        2|      Madang Airport|        Madang|Papua New Guinea| MAG|AYMD|POINT (145.789001...|\n",
            "|        3|Mount Hagen Kagam...|   Mount Hagen|Papua New Guinea| HGU|AYMH|POINT (144.296005...|\n",
            "|        4|      Nadzab Airport|        Nadzab|Papua New Guinea| LAE|AYNZ|POINT (146.725977...|\n",
            "|        5|Port Moresby Jack...|  Port Moresby|Papua New Guinea| POM|AYPY|POINT (147.220001...|\n",
            "|        6|Wewak Internation...|         Wewak|Papua New Guinea| WWK|AYWK|POINT (143.669006...|\n",
            "|        7|  Narsarsuaq Airport|  Narssarssuaq|       Greenland| UAK|BGBW|POINT (-45.425998...|\n",
            "|        8|Godthaab / Nuuk A...|      Godthaab|       Greenland| GOH|BGGH|POINT (-51.678100...|\n",
            "|        9|Kangerlussuaq Air...|   Sondrestrom|       Greenland| SFJ|BGSF|POINT (-50.711603...|\n",
            "|       10|      Thule Air Base|         Thule|       Greenland| THU|BGTL|POINT (-68.703201...|\n",
            "|       11|    Akureyri Airport|      Akureyri|         Iceland| AEY|BIAR|POINT (-18.072700...|\n",
            "|       12| Egilsstaðir Airport|   Egilsstadir|         Iceland| EGS|BIEG|POINT (-14.401399...|\n",
            "|       13|Hornafjörður Airport|          Hofn|         Iceland| HFN|BIHN|POINT (-15.2272 6...|\n",
            "|       14|     Húsavík Airport|       Husavik|         Iceland| HZK|BIHU|POINT (-17.426001...|\n",
            "|       15|  Ísafjörður Airport|    Isafjordur|         Iceland| IFJ|BIIS|POINT (-23.135299...|\n",
            "|       16|Keflavik Internat...|      Keflavik|         Iceland| KEF|BIKF|POINT (-22.605600...|\n",
            "|       17|Patreksfjörður Ai...|Patreksfjordur|         Iceland| PFJ|BIPA|POINT (-23.965 65...|\n",
            "|       18|   Reykjavik Airport|     Reykjavik|         Iceland| RKV|BIRK|POINT (-21.940599...|\n",
            "|       19|Siglufjörður Airport|  Siglufjordur|         Iceland| SIJ|BISI|POINT (-18.9167 6...|\n",
            "|       20|Vestmannaeyjar Ai...|Vestmannaeyjar|         Iceland| VEY|BIVM|POINT (-20.278900...|\n",
            "+---------+--------------------+--------------+----------------+----+----+--------------------+\n",
            "only showing top 20 rows\n",
            "\n",
            "root\n",
            " |-- AirportID: string (nullable = false)\n",
            " |-- Name: string (nullable = false)\n",
            " |-- City: string (nullable = false)\n",
            " |-- Country: string (nullable = false)\n",
            " |-- IATA: string (nullable = false)\n",
            " |-- ICAO: string (nullable = false)\n",
            " |-- geospacial_Location: geometry (nullable = false)\n",
            "\n"
          ]
        }
      ],
      "source": [
        "airport_dat = spark.read.option(\"delimiter\", \",\").option(\"header\", \"false\").csv(\"airports.dat\").toDF(\"AirportID\",\"Name\"\n",
        ",\"City\",\"Country\",\"IATA\",\"ICAO\",\"Latitude\",\"Longitude\",\"Altitude\",\"Timezone\",\"DST\",\"Database Time Zone\",\"Type\",\"Source\")\n",
        "airport_dat = airport_dat.drop(\"Source\")\n",
        "airport_dat = airport_dat.drop(\"Type\")\n",
        "airport_dat = airport_dat.drop(\"Database Time Zone\")\n",
        "airport_dat = airport_dat.drop(\"DST\")\n",
        "airport_dat = airport_dat.drop(\"Timezone\")\n",
        "airport_dat = airport_dat.drop(\"Altitude\")\n",
        "airport_dat = airport_dat.fillna('N/A')\n",
        "airport_dat = airport_dat.na.replace(\"\\\\N\",\"N/A\")\n",
        "airport_dat = airport_dat.na.replace(\"-\",\"N/A\")\n",
        "\n",
        "from pyspark.sql import functions\n",
        "airport = airport_dat.select(\"AirportID\", \"Name\", \"City\", \"Country\",\"IATA\",\"ICAO\",\n",
        "                                 functions.concat_ws(\"_\",airport_dat.Longitude,airport_dat.Latitude).alias(\"Location\"))\n",
        "\n",
        "airport = airport.selectExpr(\"*\", \"ST_PointFromText(Location, \\'_\\') as geospacial_Location\")\n",
        "airport = airport.drop(\"Location\")\n",
        "airport.createOrReplaceTempView(\"airport\")\n",
        "airport.show()\n",
        "airport.printSchema()"
      ]
    },
    {
      "cell_type": "markdown",
      "id": "4WqtpjfDgWFy",
      "metadata": {
        "id": "4WqtpjfDgWFy"
      },
      "source": [
        "### **Importing airline.dat and perform data cleaning**\n"
      ]
    },
    {
      "cell_type": "code",
      "execution_count": 497,
      "id": "853024fd",
      "metadata": {
        "id": "853024fd",
        "outputId": "d16c3bdc-b04e-4f63-c5a7-26addbb9d05a"
      },
      "outputs": [
        {
          "name": "stdout",
          "output_type": "stream",
          "text": [
            "+---------+--------------------+-----+----+----+--------------+------+\n",
            "|AirlineID|                Name|Alias|IATA|ICAO|       Country|Active|\n",
            "+---------+--------------------+-----+----+----+--------------+------+\n",
            "|        1|      Private flight|  N/A| N/A| N/A|           N/A|     Y|\n",
            "|        2|         135 Airways|  N/A| N/A| GNL| United States|     N|\n",
            "|        3|       1Time Airline|  N/A|  1T| RNX|  South Africa|     Y|\n",
            "|        4|2 Sqn No 1 Elemen...|  N/A| N/A| WYT|United Kingdom|     N|\n",
            "|        5|     213 Flight Unit|  N/A| N/A| TFU|        Russia|     N|\n",
            "|        6|223 Flight Unit S...|  N/A| N/A| CHD|        Russia|     N|\n",
            "|        7|   224th Flight Unit|  N/A| N/A| TTF|        Russia|     N|\n",
            "|        8|         247 Jet Ltd|  N/A| N/A| TWF|United Kingdom|     N|\n",
            "|        9|         3D Aviation|  N/A| N/A| SEC| United States|     N|\n",
            "|       10|         40-Mile Air|  N/A|  Q5| MLA| United States|     Y|\n",
            "|       11|              4D Air|  N/A| N/A| QRT|      Thailand|     N|\n",
            "|       12|611897 Alberta Li...|  N/A| N/A| THD|        Canada|     N|\n",
            "|       13|    Ansett Australia|  N/A|  AN| AAA|     Australia|     Y|\n",
            "|       14|Abacus International|  N/A|  1B| N/A|     Singapore|     Y|\n",
            "|       15|     Abelag Aviation|  N/A|  W9| AAB|       Belgium|     N|\n",
            "|       16|      Army Air Corps|  N/A| N/A| AAC|United Kingdom|     N|\n",
            "|       17|Aero Aviation Cen...|  N/A| N/A| AAD|        Canada|     N|\n",
            "|       18|Aero Servicios Ej...|  N/A| N/A| SII|        Mexico|     N|\n",
            "|       19|         Aero Biniza|  N/A| N/A| BZS|        Mexico|     N|\n",
            "|       20|       Aero Albatros|  N/A| N/A| ABM|         Spain|     N|\n",
            "+---------+--------------------+-----+----+----+--------------+------+\n",
            "only showing top 20 rows\n",
            "\n",
            "root\n",
            " |-- AirlineID: string (nullable = false)\n",
            " |-- Name: string (nullable = false)\n",
            " |-- Alias: string (nullable = false)\n",
            " |-- IATA: string (nullable = false)\n",
            " |-- ICAO: string (nullable = false)\n",
            " |-- Country: string (nullable = false)\n",
            " |-- Active: string (nullable = false)\n",
            "\n"
          ]
        }
      ],
      "source": [
        "airline_dat = spark.read.option(\"delimiter\", \",\").option(\"header\", \"false\").csv(\"airlines.dat\").toDF(\"AirlineID\",\"Name\"\n",
        ",\"Alias\",\"IATA\",\"ICAO\",\"Callsign\",\"Country\",\"Active\")\n",
        "airline_dat = airline_dat.fillna('N/A')\n",
        "airline_dat = airline_dat.na.replace(\"\\\\N\",\"N/A\")\n",
        "airline_dat = airline_dat.na.replace(\"-\",\"N/A\")\n",
        "airline_dat = airline_dat.drop(\"Callsign\")\n",
        "airline_dat.createOrReplaceTempView(\"airline\")\n",
        "airline_dat = spark.sql(\"select * from airline where AirlineID > 0\")\n",
        "airline_dat.show()\n",
        "airline_dat.printSchema()\n",
        "airline = airline_dat"
      ]
    },
    {
      "cell_type": "markdown",
      "id": "xW3cbTZ2gg8X",
      "metadata": {
        "id": "xW3cbTZ2gg8X"
      },
      "source": [
        "### **Importing routes.dat**"
      ]
    },
    {
      "cell_type": "code",
      "execution_count": 498,
      "id": "5c751aac",
      "metadata": {
        "id": "5c751aac",
        "outputId": "32ccbcfe-0572-4123-99c3-a2f90323853e"
      },
      "outputs": [
        {
          "name": "stdout",
          "output_type": "stream",
          "text": [
            "+-------+---------+-------------+---------------+------------------+--------------------+---------+-----+\n",
            "|Airline|AirlineID|SourceAirport|SourceAirportID|DestinationAirport|DestinationAirportID|Codeshare|Stops|\n",
            "+-------+---------+-------------+---------------+------------------+--------------------+---------+-----+\n",
            "|     2B|      410|          AER|           2965|               KZN|                2990|      N/A|    0|\n",
            "|     2B|      410|          ASF|           2966|               KZN|                2990|      N/A|    0|\n",
            "|     2B|      410|          ASF|           2966|               MRV|                2962|      N/A|    0|\n",
            "|     2B|      410|          CEK|           2968|               KZN|                2990|      N/A|    0|\n",
            "|     2B|      410|          CEK|           2968|               OVB|                4078|      N/A|    0|\n",
            "|     2B|      410|          DME|           4029|               KZN|                2990|      N/A|    0|\n",
            "|     2B|      410|          DME|           4029|               NBC|                6969|      N/A|    0|\n",
            "|     2B|      410|          DME|           4029|               TGK|                 N/A|      N/A|    0|\n",
            "|     2B|      410|          DME|           4029|               UUA|                6160|      N/A|    0|\n",
            "|     2B|      410|          EGO|           6156|               KGD|                2952|      N/A|    0|\n",
            "|     2B|      410|          EGO|           6156|               KZN|                2990|      N/A|    0|\n",
            "|     2B|      410|          GYD|           2922|               NBC|                6969|      N/A|    0|\n",
            "|     2B|      410|          KGD|           2952|               EGO|                6156|      N/A|    0|\n",
            "|     2B|      410|          KZN|           2990|               AER|                2965|      N/A|    0|\n",
            "|     2B|      410|          KZN|           2990|               ASF|                2966|      N/A|    0|\n",
            "|     2B|      410|          KZN|           2990|               CEK|                2968|      N/A|    0|\n",
            "|     2B|      410|          KZN|           2990|               DME|                4029|      N/A|    0|\n",
            "|     2B|      410|          KZN|           2990|               EGO|                6156|      N/A|    0|\n",
            "|     2B|      410|          KZN|           2990|               LED|                2948|      N/A|    0|\n",
            "|     2B|      410|          KZN|           2990|               SVX|                2975|      N/A|    0|\n",
            "+-------+---------+-------------+---------------+------------------+--------------------+---------+-----+\n",
            "only showing top 20 rows\n",
            "\n"
          ]
        }
      ],
      "source": [
        "route_dat = spark.read.option(\"delimiter\", \",\").option(\"header\", \"false\").csv(\"routes.dat\").toDF(\"Airline\",\"AirlineID\"\n",
        ",\"SourceAirport\",\"SourceAirportID\",\"DestinationAirport\",\"DestinationAirportID\",\"Codeshare\",\"Stops\",\"Equipment\")\n",
        "route_dat = route_dat.drop(\"Equipment\")\n",
        "route_dat = route_dat.fillna('N/A')\n",
        "route_dat = route_dat.na.replace(\"\\\\N\",\"N/A\")\n",
        "route_dat = route_dat.na.replace(\"-\",\"N/A\")\n",
        "route_dat.createOrReplaceTempView(\"route\")\n",
        "#route_dat.show()\n",
        "#route_dat.printSchema()\n",
        "\n",
        "route = route_dat\n",
        "route.show()"
      ]
    },
    {
      "cell_type": "markdown",
      "id": "QE7c5D1sg-OK",
      "metadata": {
        "id": "QE7c5D1sg-OK"
      },
      "source": [
        "### **Updating routes table**"
      ]
    },
    {
      "cell_type": "code",
      "execution_count": 499,
      "id": "145b2dd6",
      "metadata": {
        "id": "145b2dd6",
        "outputId": "034d68fe-d78c-4a4b-f108-1728041b881d"
      },
      "outputs": [
        {
          "data": {
            "text/plain": [
              "7698"
            ]
          },
          "execution_count": 499,
          "metadata": {},
          "output_type": "execute_result"
        }
      ],
      "source": [
        "airport.count()"
      ]
    },
    {
      "cell_type": "code",
      "execution_count": 500,
      "id": "c17734d8",
      "metadata": {
        "id": "c17734d8",
        "outputId": "b76af744-962c-4122-dd21-c9e1b176459f"
      },
      "outputs": [
        {
          "data": {
            "text/plain": [
              "6161"
            ]
          },
          "execution_count": 500,
          "metadata": {},
          "output_type": "execute_result"
        }
      ],
      "source": [
        "airline.count()"
      ]
    },
    {
      "cell_type": "code",
      "execution_count": 501,
      "id": "71a03a64",
      "metadata": {
        "id": "71a03a64",
        "outputId": "fdcc784e-46c5-4945-ebbb-69a03644d51a"
      },
      "outputs": [
        {
          "data": {
            "text/plain": [
              "67663"
            ]
          },
          "execution_count": 501,
          "metadata": {},
          "output_type": "execute_result"
        }
      ],
      "source": [
        "route.count()"
      ]
    },
    {
      "cell_type": "markdown",
      "id": "mQC8IY0vTGUA",
      "metadata": {
        "id": "mQC8IY0vTGUA"
      },
      "source": [
        "Here further data cleaning is happening as a new airline_cp variable is introduced which only includes airlines which do not have a blank IATA or ICAO codes. Routes and airports are also cleaned in a similar way into a new route_cp and airport_cp "
      ]
    },
    {
      "cell_type": "markdown",
      "id": "HdrN6RjyY7F2",
      "metadata": {
        "id": "HdrN6RjyY7F2"
      },
      "source": [
        "# Data transformation: \n",
        "We tried to break those tables into 3rd normalization form. For example, in routes.dat, we chose airline ID, source airport ID, destination airport ID to be the primary key. And those attributes are foreign keys "
      ]
    },
    {
      "cell_type": "code",
      "execution_count": 502,
      "id": "94b77faf",
      "metadata": {
        "id": "94b77faf"
      },
      "outputs": [],
      "source": [
        "airline_cp = spark.sql(\"Select * from airline where airline.IATA != 'N/A'\")\n",
        "airline_cp = airline_cp.withColumnRenamed(\"IATA\",\"Airline\")"
      ]
    },
    {
      "cell_type": "code",
      "execution_count": 503,
      "id": "f9baec04",
      "metadata": {
        "id": "f9baec04"
      },
      "outputs": [],
      "source": [
        "route_cp = route.alias('r').join(airline_cp.alias('a'), on = 'Airline', how = 'left')\\\n",
        "    .select('r.Airline', functions.when(~functions.isnull(functions.col('a.AirlineID')),\n",
        "                                       functions.col('a.AirlineID')\n",
        "                                       ).otherwise(functions.col('r.AirlineID')).alias('AirlineID'),\n",
        "            #'r.AirlineID', 'a.AirlineID',\n",
        "           'r.SourceAirport', 'r.SourceAirportID', 'r.DestinationAirport', 'r.DestinationAirportID',\n",
        "           'r.Codeshare', 'r.Stops').dropDuplicates()"
      ]
    },
    {
      "cell_type": "code",
      "execution_count": 504,
      "id": "7bdc2814",
      "metadata": {
        "id": "7bdc2814",
        "outputId": "94770a2d-4f88-49e5-bab8-60f36e52f52e"
      },
      "outputs": [
        {
          "data": {
            "text/plain": [
              "78221"
            ]
          },
          "execution_count": 504,
          "metadata": {},
          "output_type": "execute_result"
        }
      ],
      "source": [
        "route_cp.count()"
      ]
    },
    {
      "cell_type": "code",
      "execution_count": 505,
      "id": "946aa6ca",
      "metadata": {
        "id": "946aa6ca"
      },
      "outputs": [],
      "source": [
        "airline_cp = spark.sql(\"Select * from airline where airline.ICAO != 'N/A'\")\n",
        "airline_cp = airline_cp.withColumnRenamed(\"ICAO\",\"Airline\")"
      ]
    },
    {
      "cell_type": "code",
      "execution_count": 506,
      "id": "c5997ee7",
      "metadata": {
        "id": "c5997ee7"
      },
      "outputs": [],
      "source": [
        "route_cp = route_cp.alias('r').join(airline_cp.alias('a'), on = 'Airline', how = 'left')\\\n",
        "    .select('r.Airline', functions.when(~functions.isnull(functions.col('a.AirlineID')),\n",
        "                                       functions.col('a.AirlineID')\n",
        "                                       ).otherwise(functions.col('r.AirlineID')).alias('AirlineID'),\n",
        "           'r.SourceAirport', 'r.SourceAirportID', 'r.DestinationAirport', 'r.DestinationAirportID',\n",
        "           'r.Codeshare', 'r.Stops').dropDuplicates()\n"
      ]
    },
    {
      "cell_type": "code",
      "execution_count": 507,
      "id": "247c9886",
      "metadata": {
        "id": "247c9886"
      },
      "outputs": [],
      "source": [
        "airport_cp = spark.sql(\"Select * from airport where airport.IATA != 'N/A'\")\n",
        "airport_cp = airport_cp.withColumnRenamed(\"IATA\",\"SourceAirport\")"
      ]
    },
    {
      "cell_type": "code",
      "execution_count": 508,
      "id": "539814f3",
      "metadata": {
        "id": "539814f3"
      },
      "outputs": [],
      "source": [
        "route_cp = route_cp.alias('r').join(airport_cp.alias('a'), \n",
        "                                    \n",
        "                                    on = 'SourceAirport', how = 'left')\\\n",
        "    .select('r.Airline', 'r.AirlineID','r.SourceAirport', functions.when(~functions.isnull(functions.col('a.AirportID')),\n",
        "                                       functions.col('a.AirportID')\n",
        "                                       ).otherwise(functions.col('r.SourceAirportID')).alias('SourceAirportID'), \n",
        "            'r.DestinationAirport', 'r.DestinationAirportID',\n",
        "           'r.Codeshare', 'r.Stops').dropDuplicates()"
      ]
    },
    {
      "cell_type": "code",
      "execution_count": 509,
      "id": "b41a861d",
      "metadata": {
        "id": "b41a861d"
      },
      "outputs": [],
      "source": [
        "airport_cp = spark.sql(\"Select * from airport where airport.ICAO != 'N/A'\")\n",
        "airport_cp = airport_cp.withColumnRenamed(\"ICAO\",\"SourceAirport\")"
      ]
    },
    {
      "cell_type": "code",
      "execution_count": 510,
      "id": "89207291",
      "metadata": {
        "id": "89207291"
      },
      "outputs": [],
      "source": [
        "route_cp = route_cp.alias('r').join(airport_cp.alias('a'), on = 'SourceAirport', how = 'left')\\\n",
        "    .select('r.Airline', 'r.AirlineID','r.SourceAirport', functions.when(~functions.isnull(functions.col('a.AirportID')),\n",
        "                                       functions.col('a.AirportID')\n",
        "                                       ).otherwise(functions.col('r.SourceAirportID')).alias('SourceAirportID'), \n",
        "            'r.DestinationAirport', 'r.DestinationAirportID',\n",
        "           'r.Codeshare', 'r.Stops').dropDuplicates()"
      ]
    },
    {
      "cell_type": "code",
      "execution_count": 511,
      "id": "5063ccd3",
      "metadata": {
        "id": "5063ccd3"
      },
      "outputs": [],
      "source": [
        "airport_cp = spark.sql(\"Select * from airport where airport.IATA != 'N/A'\")\n",
        "airport_cp = airport_cp.withColumnRenamed(\"IATA\",\"DestinationAirport\")"
      ]
    },
    {
      "cell_type": "code",
      "execution_count": 512,
      "id": "aa1528d1",
      "metadata": {
        "id": "aa1528d1"
      },
      "outputs": [],
      "source": [
        "route_cp = route_cp.alias('r').join(airport_cp.alias('a'), on = 'DestinationAirport', how = 'left')\\\n",
        "    .select('r.Airline', 'r.AirlineID','r.SourceAirport', 'r.SourceAirportID',\n",
        "            'r.DestinationAirport', functions.when(~functions.isnull(functions.col('a.AirportID')),\n",
        "                                       functions.col('a.AirportID')\n",
        "                                       ).otherwise(functions.col('r.DestinationAirportID')).alias('DestinationAirportID'),\n",
        "           'r.Codeshare', 'r.Stops').dropDuplicates()"
      ]
    },
    {
      "cell_type": "code",
      "execution_count": 464,
      "id": "76df0601",
      "metadata": {
        "id": "76df0601",
        "outputId": "c624e612-95ae-4af2-f676-874285c2ef2e"
      },
      "outputs": [
        {
          "data": {
            "text/plain": [
              "78221"
            ]
          },
          "execution_count": 464,
          "metadata": {},
          "output_type": "execute_result"
        }
      ],
      "source": [
        "route_cp.count()"
      ]
    },
    {
      "cell_type": "code",
      "execution_count": 465,
      "id": "ac3669c1",
      "metadata": {
        "id": "ac3669c1"
      },
      "outputs": [],
      "source": [
        "airport_cp = spark.sql(\"Select * from airport where airport.ICAO != 'N/A'\")\n",
        "airport_cp = airport_cp.withColumnRenamed(\"ICAO\",\"DestinationAirport\")"
      ]
    },
    {
      "cell_type": "code",
      "execution_count": 466,
      "id": "10cd3091",
      "metadata": {
        "id": "10cd3091"
      },
      "outputs": [],
      "source": [
        "route_cp = route_cp.alias('r').join(airport_cp.alias('a'), on = 'DestinationAirport', how = 'left')\\\n",
        "    .select('r.Airline', 'r.AirlineID','r.SourceAirport', 'r.SourceAirportID',\n",
        "            'r.DestinationAirport', functions.when(~functions.isnull(functions.col('a.AirportID')),\n",
        "                                       functions.col('a.AirportID')\n",
        "                                       ).otherwise(functions.col('r.DestinationAirportID')).alias('DestinationAirportID'),\n",
        "           'r.Codeshare', 'r.Stops').dropDuplicates().sort(\"Airline\")"
      ]
    },
    {
      "cell_type": "code",
      "execution_count": 467,
      "id": "d9abd117",
      "metadata": {
        "id": "d9abd117",
        "outputId": "ffa425da-b46f-4958-b7fd-7648d1a67eae"
      },
      "outputs": [
        {
          "name": "stdout",
          "output_type": "stream",
          "text": [
            "+-------+---------+-------------+---------------+------------------+--------------------+---------+-----+\n",
            "|Airline|AirlineID|SourceAirport|SourceAirportID|DestinationAirport|DestinationAirportID|Codeshare|Stops|\n",
            "+-------+---------+-------------+---------------+------------------+--------------------+---------+-----+\n",
            "|     2B|      410|          NUX|           4364|               SVX|                2975|      N/A|    0|\n",
            "|     2B|      410|          DME|           4029|               KZN|                2990|      N/A|    0|\n",
            "|     2B|      410|          KZN|           2990|               CEK|                2968|      N/A|    0|\n",
            "|     2B|      410|          KZN|           2990|               AER|                2965|      N/A|    0|\n",
            "|     2B|      410|          KZN|           2990|               ASF|                2966|      N/A|    0|\n",
            "|     2B|      410|          ASF|           2966|               MRV|                2962|      N/A|    0|\n",
            "|     2B|      410|          UUA|           6160|               LED|                2948|      N/A|    0|\n",
            "|     2B|      410|          TGK|           6932|               DME|                4029|      N/A|    0|\n",
            "|     2B|      410|          LED|           2948|               UUA|                6160|      N/A|    0|\n",
            "|     2B|      410|          GYD|           2922|               NBC|                6969|      N/A|    0|\n",
            "|     2B|      410|          NBC|           6969|               DME|                4029|      N/A|    0|\n",
            "|     2B|      410|          CEK|           2968|               OVB|                4078|      N/A|    0|\n",
            "|     2B|      410|          EGO|           6156|               KGD|                2952|      N/A|    0|\n",
            "|     2B|      410|          LED|           2948|               NBC|                6969|      N/A|    0|\n",
            "|     2B|      410|          LED|           2948|               KZN|                2990|      N/A|    0|\n",
            "|     2B|      410|          KZN|           2990|               EGO|                6156|      N/A|    0|\n",
            "|     2B|      410|          AER|           2965|               KZN|                2990|      N/A|    0|\n",
            "|     2B|      410|          KZN|           2990|               DME|                4029|      N/A|    0|\n",
            "|     2B|      410|          KZN|           2990|               LED|                2948|      N/A|    0|\n",
            "|     2B|      410|          SVX|           2975|               NJC|                2972|      N/A|    0|\n",
            "+-------+---------+-------------+---------------+------------------+--------------------+---------+-----+\n",
            "only showing top 20 rows\n",
            "\n"
          ]
        }
      ],
      "source": [
        "route_cp.show()"
      ]
    },
    {
      "cell_type": "code",
      "execution_count": 468,
      "id": "fecf0da0",
      "metadata": {
        "id": "fecf0da0",
        "outputId": "bd948a81-faa4-45c2-b477-d31c3c010b57"
      },
      "outputs": [
        {
          "name": "stdout",
          "output_type": "stream",
          "text": [
            "+---------+--------------------+-----------------+--------------+\n",
            "|AirportID|                Name|             City|       Country|\n",
            "+---------+--------------------+-----------------+--------------+\n",
            "|      465|Belfast Internati...|          Belfast|United Kingdom|\n",
            "|      466|   St Angelo Airport|      Enniskillen|United Kingdom|\n",
            "|      467|George Best Belfa...|          Belfast|United Kingdom|\n",
            "|      468|City of Derry Air...|      Londonderry|United Kingdom|\n",
            "|      469|Birmingham Intern...|       Birmingham|United Kingdom|\n",
            "|      470|    Coventry Airport|         Coventry|United Kingdom|\n",
            "|      471|   Leicester Airport|        Leicester|United Kingdom|\n",
            "|      472|Gloucestershire A...|Golouchestershire|United Kingdom|\n",
            "|      474|Wolverhampton Hal...|  Halfpenny Green|United Kingdom|\n",
            "|      475|    Cotswold Airport|          Pailton|United Kingdom|\n",
            "|      476|   Turweston Airport|        Turweston|United Kingdom|\n",
            "|      477|Wellesbourne Moun...|     Wellesbourne|United Kingdom|\n",
            "|      478|  Manchester Airport|       Manchester|United Kingdom|\n",
            "|      479|Manchester Woodfo...|         Woodfort|United Kingdom|\n",
            "|      480|Royal Marines Bas...|         Chivenor|United Kingdom|\n",
            "|      481|Newquay Cornwall ...|          Newquai|United Kingdom|\n",
            "|      482|         RAF Lyneham|          Lyneham|United Kingdom|\n",
            "|      483|MoD Boscombe Down...|    Boscombe Down|United Kingdom|\n",
            "|      484|       RNAS Culdrose|         Culdrose|United Kingdom|\n",
            "|      485|       MoD St. Athan|        St. Athan|United Kingdom|\n",
            "+---------+--------------------+-----------------+--------------+\n",
            "only showing top 20 rows\n",
            "\n"
          ]
        }
      ],
      "source": [
        "airport_cp = spark.sql(\"Select AirportID, Name, City, Country from airport where airport.Country != 'N/A'\")\n",
        "X = input(\"Enter country's name: \")\n",
        "airport_cp.filter(airport_cp.Country.rlike(f\"(?i)^*{X}$\")).show()"
      ]
    },
    {
      "cell_type": "markdown",
      "id": "U9t22ougRbEm",
      "metadata": {
        "id": "U9t22ougRbEm"
      },
      "source": [
        "# Milestone 3 (For Long)"
      ]
    },
    {
      "cell_type": "code",
      "execution_count": 469,
      "id": "d3c41a7b",
      "metadata": {
        "id": "d3c41a7b",
        "outputId": "5c09b102-945d-4d92-cec7-28eca3200dc7"
      },
      "outputs": [
        {
          "name": "stdout",
          "output_type": "stream",
          "text": [
            "+---------+------------+-----+\n",
            "|AirlineID|Airline_Name|Stops|\n",
            "+---------+------------+-----+\n",
            "+---------+------------+-----+\n",
            "\n"
          ]
        }
      ],
      "source": [
        "from pyspark.sql.functions import when\n",
        "route_cp.createOrReplaceTempView(\"route_cp\")\n",
        "X = input(\"Enter # stops: \")\n",
        "newRoute = spark.sql(f\"Select AirlineID, Stops from route_cp where route_cp.Stops == {X}\")\n",
        "airline_cp = spark.sql(f\"Select AirlineID, Name, Alias from airline\")\n",
        "newRoute = newRoute.alias('r').join(airline_cp.alias('a'), on = 'AirlineID', how = 'inner')\\\n",
        "    .select('r.AirlineID', when(airline_cp.Name != 'N/A', airline_cp.Name)\n",
        "            .otherwise(\"a.Alias\").alias('Airline_Name'),\n",
        "'r.Stops').dropDuplicates()\n",
        "newRoute.filter(newRoute.Airline_Name != 'N/A').show()"
      ]
    },
    {
      "cell_type": "code",
      "execution_count": 470,
      "id": "373b4dc9",
      "metadata": {
        "id": "373b4dc9",
        "outputId": "d42288ca-cdad-43e8-849f-cc61eb5bf91e"
      },
      "outputs": [
        {
          "name": "stdout",
          "output_type": "stream",
          "text": [
            "+---------+--------------------+---------+\n",
            "|AirlineID|        Airline_Name|Codeshare|\n",
            "+---------+--------------------+---------+\n",
            "|     5179|               Tarom|        Y|\n",
            "|      502|Abu Dhabi Amiri F...|        Y|\n",
            "|      324|  All Nippon Airways|        Y|\n",
            "|     2855|              Indigo|        Y|\n",
            "|     5416|             WestJet|        Y|\n",
            "|     5347|Virgin Atlantic A...|        Y|\n",
            "|     1889|       Copa Airlines|        Y|\n",
            "|     2421|               Flybe|        Y|\n",
            "|     4559|Swiss Internation...|        Y|\n",
            "|       28|     Asiana Airlines|        Y|\n",
            "|     5309|    Vietnam Airlines|        Y|\n",
            "|     1942|      Cyprus Airways|        Y|\n",
            "|      137|          Air France|        Y|\n",
            "|      241|          Air Sahara|        Y|\n",
            "|     3378|   Malaysia Airlines|        Y|\n",
            "|     1908|          Corsairfly|        Y|\n",
            "|     1317|         Air Transat|        Y|\n",
            "|     4292|    Rwandair Express|        Y|\n",
            "|      197| Azerbaijan Airlines|        Y|\n",
            "|     2056|           Dragonair|        Y|\n",
            "+---------+--------------------+---------+\n",
            "only showing top 20 rows\n",
            "\n"
          ]
        }
      ],
      "source": [
        "newRoute = spark.sql(f\"Select AirlineID, Codeshare from route_cp where route_cp.Codeshare == 'Y' \\\n",
        "                     or route_cp.Codeshare == 'y'\")\n",
        "airline_cp = spark.sql(f\"Select AirlineID, Name, Alias from airline\")\n",
        "airline_cp = newRoute.alias('r').join(airline_cp.alias('a'), on = 'AirlineID', how = 'inner')\\\n",
        "    .select('r.AirlineID', when(airline_cp.Name != 'N/A', airline_cp.Name)\n",
        "            .otherwise(\"a.Alias\").alias('Airline_Name'),\n",
        "'r.Codeshare').dropDuplicates()\n",
        "airline_cp.filter(airline_cp.Airline_Name != 'N/A').show()"
      ]
    },
    {
      "cell_type": "code",
      "execution_count": 471,
      "id": "559cdffb",
      "metadata": {
        "id": "559cdffb",
        "outputId": "51146649-2f70-4fd2-a79d-3a6a1aa09040"
      },
      "outputs": [
        {
          "name": "stdout",
          "output_type": "stream",
          "text": [
            "+---------+--------------------+-------------+------+\n",
            "|AirlineID|        Airline_Name|      Country|Active|\n",
            "+---------+--------------------+-------------+------+\n",
            "|       10|         40-Mile Air|United States|     Y|\n",
            "|       22|      Aloha Airlines|United States|     Y|\n",
            "|       24|   American Airlines|United States|     Y|\n",
            "|       35|       Allegiant Air|United States|     Y|\n",
            "|      109|Alaska Central Ex...|United States|     Y|\n",
            "|      149|  Air Cargo Carriers|United States|     Y|\n",
            "|      210|Airlift Internati...|United States|     Y|\n",
            "|      281|America West Airl...|United States|     Y|\n",
            "|      282|       Air Wisconsin|United States|     Y|\n",
            "|      287|Allegheny Commute...|United States|     Y|\n",
            "|      295|        Air Sunshine|United States|     Y|\n",
            "|      315|        ATA Airlines|United States|     Y|\n",
            "|      397|           Arrow Air|United States|     Y|\n",
            "|      452|Atlantic Southeas...|United States|     Y|\n",
            "|      659|American Eagle Ai...|United States|     Y|\n",
            "|      792|          Access Air|United States|     Y|\n",
            "|      882|         Air Florida|United States|     Y|\n",
            "|      928|           Atlas Air|United States|     Y|\n",
            "|     1316|     AirTran Airways|United States|     Y|\n",
            "|     1442|    Bemidji Airlines|United States|     Y|\n",
            "+---------+--------------------+-------------+------+\n",
            "only showing top 20 rows\n",
            "\n"
          ]
        }
      ],
      "source": [
        "airline_cp = spark.sql(\"\"\"\n",
        "                       Select AirlineID, Name, Alias, Country, Active \n",
        "                       from airline \n",
        "                       where Country == 'United States' and (Active == 'Y' or Active == 'y')\n",
        "                       \"\"\")\n",
        "airline_cp = airline_cp.select(airline_cp.AirlineID, when(airline_cp.Name != 'N/A', airline_cp.Name)\n",
        "            .otherwise(airline_cp.Alias).alias('Airline_Name'), airline_cp.Country, airline_cp.Active)\n",
        "airline_cp.filter(airline_cp.Airline_Name != 'N/A').show()"
      ]
    },
    {
      "cell_type": "code",
      "execution_count": 472,
      "id": "8ab04cea",
      "metadata": {
        "id": "8ab04cea",
        "outputId": "bd8df59a-de42-4fcb-d005-3c830bb710eb"
      },
      "outputs": [
        {
          "data": {
            "text/plain": [
              "Row(Country='United States', Num_Airports=1512)"
            ]
          },
          "execution_count": 472,
          "metadata": {},
          "output_type": "execute_result"
        }
      ],
      "source": [
        "airport_cp = spark.sql(\"\"\"\n",
        "                select Country, count(Country) as Num_Airports\n",
        "                from airport\n",
        "                where country != 'N/A'\n",
        "                group by Country\n",
        "                order by Num_Airports desc\n",
        "            \"\"\")\n",
        "airport_cp.first()"
      ]
    },
    {
      "cell_type": "code",
      "execution_count": 473,
      "id": "f1fb8170",
      "metadata": {
        "id": "f1fb8170",
        "outputId": "6fb8ef5f-5cc3-437c-d22e-4ff71db41f6f"
      },
      "outputs": [
        {
          "name": "stderr",
          "output_type": "stream",
          "text": []
        },
        {
          "name": "stdout",
          "output_type": "stream",
          "text": [
            "+---------+------------+\n",
            "|     City|Num_Airlines|\n",
            "+---------+------------+\n",
            "|    Paris|         147|\n",
            "|   London|         139|\n",
            "|   Moscow|         132|\n",
            "|  Bangkok|         126|\n",
            "|Frankfurt|         111|\n",
            "|     Rome|         103|\n",
            "| Istanbul|          99|\n",
            "|Hong Kong|          97|\n",
            "|    Dubai|          97|\n",
            "|Singapore|          94|\n",
            "|Amsterdam|          93|\n",
            "|   Munich|          93|\n",
            "|  Beijing|          91|\n",
            "| New York|          86|\n",
            "|   Milano|          85|\n",
            "|Barcelona|          85|\n",
            "|   Zurich|          83|\n",
            "|   Vienna|          83|\n",
            "| Shanghai|          82|\n",
            "|    Tokyo|          82|\n",
            "+---------+------------+\n",
            "only showing top 20 rows\n",
            "\n"
          ]
        },
        {
          "name": "stderr",
          "output_type": "stream",
          "text": []
        }
      ],
      "source": [
        "airline_cp = spark.sql(\"\"\"\n",
        "                       Select AirlineID, DestinationAirportID \n",
        "                       from route_cp \n",
        "                       where AirlineID != 'N/A' and DestinationAirportID != 'N/A'\n",
        "                       \"\"\")\n",
        "airline_cp.createOrReplaceTempView(\"airline_cp\")\n",
        "airport_cp = spark.sql(\"\"\"\n",
        "                       Select AirportID, City\n",
        "                       from airport \n",
        "                       where City != 'N/A'\n",
        "                       \"\"\")\n",
        "airport_cp.createOrReplaceTempView(\"airport_cp\")\n",
        "result = spark.sql(\"\"\"\n",
        "            Select airport_cp.City, count(distinct airline_cp.AirlineID) as Num_Airlines\n",
        "            from airline_cp\n",
        "            inner join airport_cp\n",
        "            on airline_cp.DestinationAirportID == airport_cp.AirportID\n",
        "            group by airport_cp.City\n",
        "            order by Num_Airlines desc\n",
        "    \"\"\")\n",
        "topIncomingAirport=result.limit(10)\n",
        "result.show()"
      ]
    },
    {
      "cell_type": "markdown",
      "id": "A9jciv6Phj_v",
      "metadata": {
        "id": "A9jciv6Phj_v"
      },
      "source": [
        "### **For airports.dat, we combine latitude, longitude, altitude into one column called location. Then we make geospatial data from that location column.**"
      ]
    },
    {
      "cell_type": "code",
      "execution_count": 474,
      "id": "6b691e57",
      "metadata": {
        "id": "6b691e57",
        "outputId": "4f2401d9-bcad-4cdc-bab2-3b944a2736d8"
      },
      "outputs": [
        {
          "name": "stdout",
          "output_type": "stream",
          "text": [
            "+---------+--------------------+-------------+-----------+--------------------+------------------+\n",
            "|AirportID|                Name|         City|    Country| geospacial_Location|          Distance|\n",
            "+---------+--------------------+-------------+-----------+--------------------+------------------+\n",
            "|    11979|          Nagurskoye|     Murmansk|     Russia|POINT (47.663586 ...| 36.43990436702935|\n",
            "|    13416|  Pyramiden Heliport|    Pyramiden|     Norway|POINT (16.337208 ...| 44.50673012830922|\n",
            "|     7451|        Svea Airport|    Sveagruva|   Svalbard|POINT (16.725 77....| 44.94808675749805|\n",
            "|      658|Svalbard Airport,...|     Svalbard|     Norway|POINT (15.4656000...| 45.31588994712295|\n",
            "|    14106| Rogachyovo Air Base|       Belaya|     Russia|POINT (52.4782981...|46.522197085851936|\n",
            "|     7452|Ny-Ålesund Airpor...|   Ny-Alesund|   Svalbard|POINT (11.8743 78...| 46.80190549698943|\n",
            "|     4350|    Berlevåg Airport|     Berlevag|     Norway|POINT (29.034201 ...| 46.81542764230614|\n",
            "|     5589|Vardø Airport, Sv...|        Vardø|     Norway|POINT (31.0449008...| 46.89641645985814|\n",
            "|      637|   Båtsfjord Airport|    Batsfjord|     Norway|POINT (29.6914005...| 46.93157973200322|\n",
            "|     4327|      Mehamn Airport|       Mehamn|     Norway|POINT (27.8267002...| 46.95744399517949|\n",
            "|     4328|       Vadsø Airport|        Vadsø|     Norway|POINT (29.8446998...|47.421343049472156|\n",
            "|     4326|       Valan Airport|  Honningsvag|     Norway|POINT (25.9836006...|47.484044988442285|\n",
            "|      649|Kirkenes Airport ...|     Kirkenes|     Norway|POINT (29.8913002...| 47.74337631509968|\n",
            "|    11969|Severomorsk-1 Nav...|  Severomorsk|     Russia|POINT (33.4183311...| 47.81763612036232|\n",
            "|    12006|Severomorsk-3 Nav...|  Severomorsk|     Russia|POINT (33.716667 ...| 47.94170072745072|\n",
            "|    13011|[Duplicate] Iller...|Not Specified|New Zealand| POINT (0.0001 89.5)| 48.12842581645487|\n",
            "|     2949|    Murmansk Airport|     Murmansk|     Russia|POINT (32.7508010...| 48.15992528769765|\n",
            "|     4325|  Hammerfest Airport|   Hammerfest|     Norway|POINT (23.6686000...| 48.52439592275545|\n",
            "|      653|       Banak Airport|      Lakselv|     Norway|POINT (24.9734992...| 48.68461255045117|\n",
            "|      646|      Hasvik Airport|       Hasvik|     Norway|POINT (22.1396999...| 49.23705891417671|\n",
            "+---------+--------------------+-------------+-----------+--------------------+------------------+\n",
            "only showing top 20 rows\n",
            "\n"
          ]
        }
      ],
      "source": [
        "X = input(\"Enter city's longitude: \")\n",
        "Y = input(\"Enter country's latitude: \")\n",
        "\n",
        "airport_cp = spark.sql(\"\"\"\n",
        "    select AirportID,Name,City,Country,geospacial_Location\n",
        "    from airport\n",
        "    where City != 'N/A'\n",
        "\"\"\")\n",
        "airport_cp.createOrReplaceTempView(\"airport_cp\")\n",
        "result = spark.sql(f\" \\\n",
        "    select a.AirportID, a.Name, a.City, a.Country,a.geospacial_Location, ST_Distance(a.geospacial_Location, ST_Point({X}, {Y})) as Distance \\\n",
        "    from airport as a \\\n",
        "    order by Distance\")\n",
        "closestAirport=result.limit(10)\n",
        "closestAirport2 = gpd.GeoDataFrame(result.limit(100).toPandas(), geometry=\"geospacial_Location\")\n",
        "result.show()"
      ]
    },
    {
      "cell_type": "code",
      "execution_count": 475,
      "id": "afeb227c",
      "metadata": {
        "id": "afeb227c",
        "outputId": "ba711458-93fe-4009-d421-08adc870b035"
      },
      "outputs": [
        {
          "name": "stdout",
          "output_type": "stream",
          "text": [
            "+-------------+---------+--------------------+----------------+\n",
            "|       States|AirportID|                Name|            City|\n",
            "+-------------+---------+--------------------+----------------+\n",
            "|       Alaska|     3411|Barter Island LRR...|   Barter Island|\n",
            "|       Alaska|     3412|Wainwright Air St...| Fort Wainwright|\n",
            "|       Alaska|     3413|Cape Lisburne LRR...|   Cape Lisburne|\n",
            "|       Alaska|     3414|Point Lay LRRS Ai...|       Point Lay|\n",
            "|       Hawaii|     3415|Hilo Internationa...|            Hilo|\n",
            "|      Florida|     3416|Orlando Executive...|         Orlando|\n",
            "|       Alaska|     3417|     Bettles Airport|         Bettles|\n",
            "|       Alaska|     3418|       Clear Airport|      Clear Mews|\n",
            "|       Alaska|     3419|Indian Mountain L...|Indian Mountains|\n",
            "|       Alaska|     3420|  Fort Yukon Airport|      Fort Yukon|\n",
            "|       Alaska|     3421|Sparrevohn LRRS A...|      Sparrevohn|\n",
            "|       Alaska|     3422|Bryant Army Heliport| Fort Richardson|\n",
            "|       Alaska|     3423|Tatalina LRRS Air...|        Tatalina|\n",
            "|       Alaska|     3424|Cape Romanzof LRR...|   Cape Romanzof|\n",
            "|Massachusetts|     3425|Laurence G Hansco...|         Bedford|\n",
            "|       Alaska|     3427|Cape Newenham LRR...|   Cape Newenham|\n",
            "|       Alaska|     3429|     Iliamna Airport|         Iliamna|\n",
            "|       Alaska|     3430|    Platinum Airport|     Port Moller|\n",
            "|       Alaska|     3431|Big Mountain Airport|    Big Mountain|\n",
            "|     Michigan|     3432|Oscoda Wurtsmith ...|          Oscoda|\n",
            "+-------------+---------+--------------------+----------------+\n",
            "only showing top 20 rows\n",
            "\n"
          ]
        },
        {
          "name": "stderr",
          "output_type": "stream",
          "text": [
            "21/12/08 19:29:57 WARN JoinQuery: UseIndex is true, but no index exists. Will build index on the fly.\n"
          ]
        }
      ],
      "source": [
        "airportInState = spark.sql(\"\"\"\n",
        "    select s.s_name as States, a.AirportID, a.Name, a.City\n",
        "    from states as s, airport as a\n",
        "    where ST_Contains(s.s_bound, a.geospacial_Location)\n",
        "\"\"\")\n",
        "airportInState.show()"
      ]
    },
    {
      "cell_type": "code",
      "execution_count": 476,
      "id": "88b77ae2",
      "metadata": {
        "id": "88b77ae2",
        "outputId": "223f0338-68f4-435c-ab55-49cb8518e8cd",
        "scrolled": true
      },
      "outputs": [
        {
          "name": "stderr",
          "output_type": "stream",
          "text": [
            "21/12/08 19:29:57 WARN JoinQuery: UseIndex is true, but no index exists. Will build index on the fly.\n"
          ]
        },
        {
          "data": {
            "text/html": [
              "<div>\n",
              "<style scoped>\n",
              "    .dataframe tbody tr th:only-of-type {\n",
              "        vertical-align: middle;\n",
              "    }\n",
              "\n",
              "    .dataframe tbody tr th {\n",
              "        vertical-align: top;\n",
              "    }\n",
              "\n",
              "    .dataframe thead th {\n",
              "        text-align: right;\n",
              "    }\n",
              "</style>\n",
              "<table border=\"1\" class=\"dataframe\">\n",
              "  <thead>\n",
              "    <tr style=\"text-align: right;\">\n",
              "      <th></th>\n",
              "      <th>States</th>\n",
              "      <th>AirportID</th>\n",
              "      <th>Name</th>\n",
              "      <th>City</th>\n",
              "      <th>s_bound</th>\n",
              "    </tr>\n",
              "  </thead>\n",
              "  <tbody>\n",
              "    <tr>\n",
              "      <th>0</th>\n",
              "      <td>Alaska</td>\n",
              "      <td>3411</td>\n",
              "      <td>Barter Island LRRS Airport</td>\n",
              "      <td>Barter Island</td>\n",
              "      <td>POLYGON ((-141.02050 70.01870, -141.72910 70.1...</td>\n",
              "    </tr>\n",
              "    <tr>\n",
              "      <th>1</th>\n",
              "      <td>Alaska</td>\n",
              "      <td>3412</td>\n",
              "      <td>Wainwright Air Station</td>\n",
              "      <td>Fort Wainwright</td>\n",
              "      <td>POLYGON ((-141.02050 70.01870, -141.72910 70.1...</td>\n",
              "    </tr>\n",
              "    <tr>\n",
              "      <th>2</th>\n",
              "      <td>Alaska</td>\n",
              "      <td>3413</td>\n",
              "      <td>Cape Lisburne LRRS Airport</td>\n",
              "      <td>Cape Lisburne</td>\n",
              "      <td>POLYGON ((-141.02050 70.01870, -141.72910 70.1...</td>\n",
              "    </tr>\n",
              "    <tr>\n",
              "      <th>3</th>\n",
              "      <td>Alaska</td>\n",
              "      <td>3414</td>\n",
              "      <td>Point Lay LRRS Airport</td>\n",
              "      <td>Point Lay</td>\n",
              "      <td>POLYGON ((-141.02050 70.01870, -141.72910 70.1...</td>\n",
              "    </tr>\n",
              "    <tr>\n",
              "      <th>4</th>\n",
              "      <td>Hawaii</td>\n",
              "      <td>3415</td>\n",
              "      <td>Hilo International Airport</td>\n",
              "      <td>Hilo</td>\n",
              "      <td>POLYGON ((-154.62840 19.51580, -154.82350 19.8...</td>\n",
              "    </tr>\n",
              "    <tr>\n",
              "      <th>...</th>\n",
              "      <td>...</td>\n",
              "      <td>...</td>\n",
              "      <td>...</td>\n",
              "      <td>...</td>\n",
              "      <td>...</td>\n",
              "    </tr>\n",
              "    <tr>\n",
              "      <th>1504</th>\n",
              "      <td>California</td>\n",
              "      <td>13717</td>\n",
              "      <td>Camp Pendleton MCAS (Munn Field) Airport</td>\n",
              "      <td>Oceanside</td>\n",
              "      <td>POLYGON ((-124.40090 41.99830, -123.62370 42.0...</td>\n",
              "    </tr>\n",
              "    <tr>\n",
              "      <th>1505</th>\n",
              "      <td>Georgia</td>\n",
              "      <td>13757</td>\n",
              "      <td>Vidalia Regional Airport</td>\n",
              "      <td>Vidalia</td>\n",
              "      <td>POLYGON ((-85.60820 34.99740, -84.72660 34.990...</td>\n",
              "    </tr>\n",
              "    <tr>\n",
              "      <th>1506</th>\n",
              "      <td>Texas</td>\n",
              "      <td>13758</td>\n",
              "      <td>Granbury Regional Airport</td>\n",
              "      <td>Granbury</td>\n",
              "      <td>POLYGON ((-106.57150 31.86590, -106.50420 31.7...</td>\n",
              "    </tr>\n",
              "    <tr>\n",
              "      <th>1507</th>\n",
              "      <td>New York</td>\n",
              "      <td>13759</td>\n",
              "      <td>Oswego County Airport</td>\n",
              "      <td>Fulton</td>\n",
              "      <td>POLYGON ((-79.76240 42.51420, -79.06720 42.778...</td>\n",
              "    </tr>\n",
              "    <tr>\n",
              "      <th>1508</th>\n",
              "      <td>South Dakota</td>\n",
              "      <td>13803</td>\n",
              "      <td>Mitchell Municipal Airport</td>\n",
              "      <td>Mitchell</td>\n",
              "      <td>POLYGON ((-104.05010 45.94350, -104.05290 43.0...</td>\n",
              "    </tr>\n",
              "  </tbody>\n",
              "</table>\n",
              "<p>1509 rows × 5 columns</p>\n",
              "</div>"
            ],
            "text/plain": [
              "            States AirportID                                      Name  \\\n",
              "0           Alaska      3411                Barter Island LRRS Airport   \n",
              "1           Alaska      3412                    Wainwright Air Station   \n",
              "2           Alaska      3413                Cape Lisburne LRRS Airport   \n",
              "3           Alaska      3414                    Point Lay LRRS Airport   \n",
              "4           Hawaii      3415                Hilo International Airport   \n",
              "...            ...       ...                                       ...   \n",
              "1504    California     13717  Camp Pendleton MCAS (Munn Field) Airport   \n",
              "1505       Georgia     13757                  Vidalia Regional Airport   \n",
              "1506         Texas     13758                 Granbury Regional Airport   \n",
              "1507      New York     13759                     Oswego County Airport   \n",
              "1508  South Dakota     13803                Mitchell Municipal Airport   \n",
              "\n",
              "                 City                                            s_bound  \n",
              "0       Barter Island  POLYGON ((-141.02050 70.01870, -141.72910 70.1...  \n",
              "1     Fort Wainwright  POLYGON ((-141.02050 70.01870, -141.72910 70.1...  \n",
              "2       Cape Lisburne  POLYGON ((-141.02050 70.01870, -141.72910 70.1...  \n",
              "3           Point Lay  POLYGON ((-141.02050 70.01870, -141.72910 70.1...  \n",
              "4                Hilo  POLYGON ((-154.62840 19.51580, -154.82350 19.8...  \n",
              "...               ...                                                ...  \n",
              "1504        Oceanside  POLYGON ((-124.40090 41.99830, -123.62370 42.0...  \n",
              "1505          Vidalia  POLYGON ((-85.60820 34.99740, -84.72660 34.990...  \n",
              "1506         Granbury  POLYGON ((-106.57150 31.86590, -106.50420 31.7...  \n",
              "1507           Fulton  POLYGON ((-79.76240 42.51420, -79.06720 42.778...  \n",
              "1508         Mitchell  POLYGON ((-104.05010 45.94350, -104.05290 43.0...  \n",
              "\n",
              "[1509 rows x 5 columns]"
            ]
          },
          "execution_count": 476,
          "metadata": {},
          "output_type": "execute_result"
        }
      ],
      "source": [
        "airportInState = spark.sql(\"\"\"\n",
        "    select s.s_name as States, a.AirportID, a.Name, a.City, s.s_bound\n",
        "    from states as s, airport as a\n",
        "    where ST_Contains(s.s_bound, a.geospacial_Location)\n",
        "\"\"\")\n",
        "geopandas_df = gpd.GeoDataFrame(airportInState.toPandas(), geometry=\"s_bound\")\n",
        "geopandas_df"
      ]
    },
    {
      "cell_type": "markdown",
      "id": "-kF5r0LWA0ak",
      "metadata": {
        "id": "-kF5r0LWA0ak"
      },
      "source": [
        "# Milestone 4 (Visuals)\n"
      ]
    },
    {
      "cell_type": "markdown",
      "id": "PXaixVJ-DWxM",
      "metadata": {
        "id": "PXaixVJ-DWxM"
      },
      "source": [
        "## Incoming Airlines Airport\n",
        "\n",
        "\n",
        "This visualization shows the top 10 cities with the most incoming airlines. (Scroll down to bar chart)\n",
        "\n",
        "As you can see, the airport in Paris has over 140 airlines servicing it, while the one in Singapore, which is still a top 10 airport, has less than a hundred\n",
        "\n"
      ]
    },
    {
      "cell_type": "code",
      "execution_count": 477,
      "id": "72197371",
      "metadata": {
        "id": "72197371",
        "outputId": "1fcc5200-c102-4cb6-c9c9-72a0bcf94bfe"
      },
      "outputs": [
        {
          "name": "stderr",
          "output_type": "stream",
          "text": []
        },
        {
          "data": {
            "image/png": "[encoded data removed]",
            "text/plain": [
              "<Figure size 576x288 with 1 Axes>"
            ]
          },
          "metadata": {},
          "output_type": "display_data"
        }
      ],
      "source": [
        "import matplotlib.pyplot as plt\n",
        "import numpy as np\n",
        "\n",
        "plt.style.use('_mpl-gallery-nogrid')\n",
        "\n",
        "keyList = [x['City'] for x in topIncomingAirport.collect()]\n",
        "valueList = [x['Num_Airlines'] for x in topIncomingAirport.collect()]\n",
        "labels = keyList\n",
        "sizes = valueList\n",
        "\n",
        "explode = (0.15, 0, 0, 0, 0, 0, 0, 0, 0 ,0) \n",
        "plt.rcParams['figure.figsize']=[8,4]\n",
        "\n",
        "fig1, ax1 = plt.subplots()\n",
        "ax1.pie(sizes, explode=explode, labels=labels, autopct='%0.2f%%',\n",
        "        shadow=True, startangle=90)\n",
        "ax1.axis('equal') \n",
        "plt.title('Top 10 cities with most incoming airlines')\n",
        "\n",
        "plt.show()"
      ]
    },
    {
      "cell_type": "code",
      "execution_count": 478,
      "id": "1286eb46",
      "metadata": {
        "id": "1286eb46",
        "outputId": "3947a6dd-63d3-4366-b007-076580925643"
      },
      "outputs": [
        {
          "data": {
            "image/png": "[encoded data removed]",
            "text/plain": [
              "<Figure size 576x288 with 1 Axes>"
            ]
          },
          "metadata": {
            "needs_background": "light"
          },
          "output_type": "display_data"
        }
      ],
      "source": [
        "keyList = [x['City'] for x in topIncomingAirport.collect()]\n",
        "valueList = [x['Num_Airlines'] for x in topIncomingAirport.collect()]\n",
        "x = keyList\n",
        "y = valueList\n",
        "plt.bar(x,y)\n",
        "plt.title('Top 10 cities with most incoming airlines')\n",
        "plt.show()"
      ]
    },
    {
      "cell_type": "markdown",
      "id": "zlpqj9dkMcp0",
      "metadata": {
        "id": "zlpqj9dkMcp0"
      },
      "source": [
        "## Find the closest Airports\n",
        "\n",
        "Our airport search engine also has a function which allows users to find the closest airport to City X based on its geospatial data. Below is an example of several visualizations our airport search engine finding the closest airport to city X, City X can be anything \n",
        "\n",
        "(do interactive here, ask the class what City X should be, if interactive fails use base graphs for City X as Beijing)"
      ]
    },
    {
      "cell_type": "code",
      "execution_count": 479,
      "id": "7296330b",
      "metadata": {
        "id": "7296330b",
        "outputId": "ecb7c231-8942-4273-f3f2-b2704b67f9ce"
      },
      "outputs": [
        {
          "data": {
            "image/png": "[encoded data removed]",
            "text/plain": [
              "<Figure size 576x288 with 1 Axes>"
            ]
          },
          "metadata": {
            "needs_background": "light"
          },
          "output_type": "display_data"
        }
      ],
      "source": [
        "import matplotlib.pyplot as plt\n",
        "import matplotlib\n",
        "keyList = [x['Name'] for x in closestAirport.collect()]\n",
        "valueList = [x['Distance'] for x in closestAirport.collect()]\n",
        "x = keyList\n",
        "y = valueList\n",
        "plt.xticks(rotation=90, fontsize=14)\n",
        "plt.bar(x,y,color='red')\n",
        "plt.ylabel('mile')\n",
        "plt.title('Find the closest airport to a city X’s geospatial coordinate')\n",
        "plt.show()"
      ]
    },
    {
      "cell_type": "code",
      "execution_count": 480,
      "id": "ba59b6b4",
      "metadata": {
        "id": "ba59b6b4",
        "outputId": "a4c65762-95d4-4329-a24f-dfbaccd21300"
      },
      "outputs": [
        {
          "data": {
            "text/plain": [
              "<function matplotlib.pyplot.show(close=None, block=None)>"
            ]
          },
          "execution_count": 480,
          "metadata": {},
          "output_type": "execute_result"
        },
        {
          "data": {
            "image/png": "[encoded data removed]",
            "text/plain": [
              "<Figure size 576x288 with 1 Axes>"
            ]
          },
          "metadata": {
            "needs_background": "light"
          },
          "output_type": "display_data"
        }
      ],
      "source": [
        "import matplotlib.pyplot as plt\n",
        "keyList = [x['Name'] for x in closestAirport.collect()]\n",
        "valueList = [x['Distance'] for x in closestAirport.collect()]\n",
        "x = keyList\n",
        "y = valueList\n",
        "plt.xticks(rotation=90, fontsize=14)\n",
        "plt.plot(x,y)\n",
        "plt.ylabel('mile')\n",
        "plt.title('Find the closest airport to a city X’s geospatial coordinate')\n",
        "plt.show"
      ]
    },
    {
      "cell_type": "code",
      "execution_count": 481,
      "id": "680be985",
      "metadata": {
        "id": "680be985",
        "outputId": "6487e895-05d7-4898-c811-0f518f6c5e14"
      },
      "outputs": [
        {
          "data": {
            "text/plain": [
              "<AxesSubplot:>"
            ]
          },
          "execution_count": 481,
          "metadata": {},
          "output_type": "execute_result"
        },
        {
          "data": {
            "image/png": "[encoded data removed]",
            "text/plain": [
              "<Figure size 576x288 with 1 Axes>"
            ]
          },
          "metadata": {
            "needs_background": "light"
          },
          "output_type": "display_data"
        }
      ],
      "source": [
        "world = gpd.read_file(gpd.datasets.get_path('naturalearth_lowres'))\n",
        "base = world.plot(edgecolor='#808080')\n",
        "closestAirport2.plot(ax=base, marker='o', color='red', markersize=5)"
      ]
    },
    {
      "cell_type": "markdown",
      "id": "fcw3v1QpNmmo",
      "metadata": {
        "id": "fcw3v1QpNmmo"
      },
      "source": [
        "## Airports per state\n",
        "\n",
        "Finally, our airport search engine can also generate heatmaps to show the number of airports or density of airports per locality. Below is a heatmap showing the number of airports per state"
      ]
    },
    {
      "cell_type": "code",
      "execution_count": 482,
      "id": "40992a3a",
      "metadata": {},
      "outputs": [
        {
          "data": {
            "text/html": [
              "<div>\n",
              "<style scoped>\n",
              "    .dataframe tbody tr th:only-of-type {\n",
              "        vertical-align: middle;\n",
              "    }\n",
              "\n",
              "    .dataframe tbody tr th {\n",
              "        vertical-align: top;\n",
              "    }\n",
              "\n",
              "    .dataframe thead th {\n",
              "        text-align: right;\n",
              "    }\n",
              "</style>\n",
              "<table border=\"1\" class=\"dataframe\">\n",
              "  <thead>\n",
              "    <tr style=\"text-align: right;\">\n",
              "      <th></th>\n",
              "      <th>States</th>\n",
              "      <th>s_bound</th>\n",
              "    </tr>\n",
              "  </thead>\n",
              "  <tbody>\n",
              "    <tr>\n",
              "      <th>0</th>\n",
              "      <td>Alaska</td>\n",
              "      <td>POLYGON ((-141.0205 70.0187, -141.7291 70.1292...</td>\n",
              "    </tr>\n",
              "    <tr>\n",
              "      <th>1</th>\n",
              "      <td>Alabama</td>\n",
              "      <td>POLYGON ((-88.1955 35.0041, -85.60680000000001...</td>\n",
              "    </tr>\n",
              "    <tr>\n",
              "      <th>2</th>\n",
              "      <td>Arkansas</td>\n",
              "      <td>POLYGON ((-94.0416 33.0225, -91.20569999999999...</td>\n",
              "    </tr>\n",
              "    <tr>\n",
              "      <th>3</th>\n",
              "      <td>Arizona</td>\n",
              "      <td>POLYGON ((-112.5989 36.9993, -110.863 37.0004,...</td>\n",
              "    </tr>\n",
              "    <tr>\n",
              "      <th>4</th>\n",
              "      <td>California</td>\n",
              "      <td>POLYGON ((-124.4009 41.9983, -123.6237 42.0024...</td>\n",
              "    </tr>\n",
              "    <tr>\n",
              "      <th>5</th>\n",
              "      <td>Colorado</td>\n",
              "      <td>POLYGON ((-109.0448 37.0004, -102.0424 36.9949...</td>\n",
              "    </tr>\n",
              "    <tr>\n",
              "      <th>6</th>\n",
              "      <td>Connecticut</td>\n",
              "      <td>POLYGON ((-73.4875 42.0498, -73.4247 42.0511, ...</td>\n",
              "    </tr>\n",
              "    <tr>\n",
              "      <th>7</th>\n",
              "      <td>Delaware</td>\n",
              "      <td>POLYGON ((-75.7919 39.7188, -75.7837 39.521, -...</td>\n",
              "    </tr>\n",
              "    <tr>\n",
              "      <th>8</th>\n",
              "      <td>Florida</td>\n",
              "      <td>POLYGON ((-87.605 30.9988, -86.5613 30.9964, -...</td>\n",
              "    </tr>\n",
              "    <tr>\n",
              "      <th>9</th>\n",
              "      <td>Georgia</td>\n",
              "      <td>POLYGON ((-85.6082 34.9974, -84.7266 34.9906, ...</td>\n",
              "    </tr>\n",
              "    <tr>\n",
              "      <th>10</th>\n",
              "      <td>Hawaii</td>\n",
              "      <td>POLYGON ((-154.6284 19.5158, -154.8235 19.8894...</td>\n",
              "    </tr>\n",
              "    <tr>\n",
              "      <th>11</th>\n",
              "      <td>Iowa</td>\n",
              "      <td>POLYGON ((-95.7623 40.5848, -93.5445 40.5785, ...</td>\n",
              "    </tr>\n",
              "    <tr>\n",
              "      <th>12</th>\n",
              "      <td>Idaho</td>\n",
              "      <td>POLYGON ((-117.0319 49, -116.0486 49.0018, -11...</td>\n",
              "    </tr>\n",
              "    <tr>\n",
              "      <th>13</th>\n",
              "      <td>Illinois</td>\n",
              "      <td>POLYGON ((-90.629 42.5116, -87.0213 42.4924, -...</td>\n",
              "    </tr>\n",
              "    <tr>\n",
              "      <th>14</th>\n",
              "      <td>Indiana</td>\n",
              "      <td>POLYGON ((-87.5253 41.7611, -84.809 41.7611, -...</td>\n",
              "    </tr>\n",
              "    <tr>\n",
              "      <th>15</th>\n",
              "      <td>Kansas</td>\n",
              "      <td>POLYGON ((-102.0506 40.0034, -102.0506 40.0034...</td>\n",
              "    </tr>\n",
              "    <tr>\n",
              "      <th>16</th>\n",
              "      <td>Kentucky</td>\n",
              "      <td>POLYGON ((-89.5372 36.4986, -89.301 36.5074, -...</td>\n",
              "    </tr>\n",
              "    <tr>\n",
              "      <th>17</th>\n",
              "      <td>Louisiana</td>\n",
              "      <td>POLYGON ((-94.04300000000001 33.0225, -93.0048...</td>\n",
              "    </tr>\n",
              "    <tr>\n",
              "      <th>18</th>\n",
              "      <td>Massachusetts</td>\n",
              "      <td>POLYGON ((-72.77889999999999 42.0003, -72.7405...</td>\n",
              "    </tr>\n",
              "    <tr>\n",
              "      <th>19</th>\n",
              "      <td>Maryland</td>\n",
              "      <td>POLYGON ((-79.4778 39.722, -78.36 39.722, -75....</td>\n",
              "    </tr>\n",
              "    <tr>\n",
              "      <th>20</th>\n",
              "      <td>Maine</td>\n",
              "      <td>POLYGON ((-71.0129 45.3425, -70.9525 45.3328, ...</td>\n",
              "    </tr>\n",
              "    <tr>\n",
              "      <th>21</th>\n",
              "      <td>Michigan</td>\n",
              "      <td>POLYGON ((-88.37130000000001 48.3033, -87.605 ...</td>\n",
              "    </tr>\n",
              "    <tr>\n",
              "      <th>22</th>\n",
              "      <td>Minnesota</td>\n",
              "      <td>POLYGON ((-96.4517 43.5008, -91.2195 43.5017, ...</td>\n",
              "    </tr>\n",
              "    <tr>\n",
              "      <th>23</th>\n",
              "      <td>Missouri</td>\n",
              "      <td>POLYGON ((-91.74679999999999 40.6181, -91.6808...</td>\n",
              "    </tr>\n",
              "    <tr>\n",
              "      <th>24</th>\n",
              "      <td>Mississippi</td>\n",
              "      <td>POLYGON ((-90.3049 35.0041, -88.1955 35.0075, ...</td>\n",
              "    </tr>\n",
              "    <tr>\n",
              "      <th>25</th>\n",
              "      <td>Montana</td>\n",
              "      <td>POLYGON ((-111.0512 44.475, -111.3684 44.7311,...</td>\n",
              "    </tr>\n",
              "    <tr>\n",
              "      <th>26</th>\n",
              "      <td>North Carolina</td>\n",
              "      <td>POLYGON ((-78.485 33.7963, -79.6742 34.8037, -...</td>\n",
              "    </tr>\n",
              "    <tr>\n",
              "      <th>27</th>\n",
              "      <td>North Dakota</td>\n",
              "      <td>POLYGON ((-104.0501 48.9955, -104.0446 45.9445...</td>\n",
              "    </tr>\n",
              "    <tr>\n",
              "      <th>28</th>\n",
              "      <td>Nebraska</td>\n",
              "      <td>POLYGON ((-104.0543 42.9986, -104.0543 41.0027...</td>\n",
              "    </tr>\n",
              "    <tr>\n",
              "      <th>29</th>\n",
              "      <td>New Hampshire</td>\n",
              "      <td>POLYGON ((-71.50449999999999 45.0153, -71.4976...</td>\n",
              "    </tr>\n",
              "    <tr>\n",
              "      <th>30</th>\n",
              "      <td>New Jersey</td>\n",
              "      <td>POLYGON ((-74.69499999999999 41.3572, -74.6559...</td>\n",
              "    </tr>\n",
              "    <tr>\n",
              "      <th>31</th>\n",
              "      <td>New Mexico</td>\n",
              "      <td>POLYGON ((-109.0448 36.9971, -109.0489 31.3337...</td>\n",
              "    </tr>\n",
              "    <tr>\n",
              "      <th>32</th>\n",
              "      <td>Nevada</td>\n",
              "      <td>POLYGON ((-120.0037 41.9922, -117.9602 42.0003...</td>\n",
              "    </tr>\n",
              "    <tr>\n",
              "      <th>33</th>\n",
              "      <td>New York</td>\n",
              "      <td>POLYGON ((-79.7624 42.5142, -79.0672 42.7783, ...</td>\n",
              "    </tr>\n",
              "    <tr>\n",
              "      <th>34</th>\n",
              "      <td>Ohio</td>\n",
              "      <td>POLYGON ((-82.3425 38.4385, -82.29170000000001...</td>\n",
              "    </tr>\n",
              "    <tr>\n",
              "      <th>35</th>\n",
              "      <td>Oklahoma</td>\n",
              "      <td>POLYGON ((-103.0051 37.0015, -103.0037 36.503,...</td>\n",
              "    </tr>\n",
              "    <tr>\n",
              "      <th>36</th>\n",
              "      <td>Oregon</td>\n",
              "      <td>POLYGON ((-124.2444 46.2587, -124.0384 46.2634...</td>\n",
              "    </tr>\n",
              "    <tr>\n",
              "      <th>37</th>\n",
              "      <td>Pennsylvania</td>\n",
              "      <td>POLYGON ((-80.51739999999999 42.3261, -80.0821...</td>\n",
              "    </tr>\n",
              "    <tr>\n",
              "      <th>38</th>\n",
              "      <td>Rhode Island</td>\n",
              "      <td>POLYGON ((-71.0568 41.3706, -71.05410000000001...</td>\n",
              "    </tr>\n",
              "    <tr>\n",
              "      <th>39</th>\n",
              "      <td>South Carolina</td>\n",
              "      <td>POLYGON ((-80.70010000000001 32.0488, -80.8978...</td>\n",
              "    </tr>\n",
              "    <tr>\n",
              "      <th>40</th>\n",
              "      <td>South Dakota</td>\n",
              "      <td>POLYGON ((-104.0501 45.9435, -104.0529 43.0026...</td>\n",
              "    </tr>\n",
              "    <tr>\n",
              "      <th>41</th>\n",
              "      <td>Tennessee</td>\n",
              "      <td>POLYGON ((-88.06780000000001 36.6739, -87.8522...</td>\n",
              "    </tr>\n",
              "    <tr>\n",
              "      <th>42</th>\n",
              "      <td>Texas</td>\n",
              "      <td>POLYGON ((-106.5715 31.8659, -106.5042 31.7504...</td>\n",
              "    </tr>\n",
              "    <tr>\n",
              "      <th>43</th>\n",
              "      <td>Utah</td>\n",
              "      <td>POLYGON ((-114.0491 36.9982, -109.0462 37.0026...</td>\n",
              "    </tr>\n",
              "    <tr>\n",
              "      <th>44</th>\n",
              "      <td>Virginia</td>\n",
              "      <td>POLYGON ((-83.67529999999999 36.6017, -83.5613...</td>\n",
              "    </tr>\n",
              "    <tr>\n",
              "      <th>45</th>\n",
              "      <td>Vermont</td>\n",
              "      <td>POLYGON ((-73.34269999999999 45.0104, -73.1827...</td>\n",
              "    </tr>\n",
              "    <tr>\n",
              "      <th>46</th>\n",
              "      <td>Washington</td>\n",
              "      <td>POLYGON ((-123.3208 49.0023, -123.0338 49.0027...</td>\n",
              "    </tr>\n",
              "    <tr>\n",
              "      <th>47</th>\n",
              "      <td>Wisconsin</td>\n",
              "      <td>POLYGON ((-90.63030000000001 42.5116, -87.0241...</td>\n",
              "    </tr>\n",
              "    <tr>\n",
              "      <th>48</th>\n",
              "      <td>West Virginia</td>\n",
              "      <td>POLYGON ((-79.4765 39.7188, -79.4806 39.2057, ...</td>\n",
              "    </tr>\n",
              "    <tr>\n",
              "      <th>49</th>\n",
              "      <td>Wyoming</td>\n",
              "      <td>POLYGON ((-104.0556 41.0037, -104.0584 44.9949...</td>\n",
              "    </tr>\n",
              "  </tbody>\n",
              "</table>\n",
              "</div>"
            ],
            "text/plain": [
              "            States                                            s_bound\n",
              "0           Alaska  POLYGON ((-141.0205 70.0187, -141.7291 70.1292...\n",
              "1          Alabama  POLYGON ((-88.1955 35.0041, -85.60680000000001...\n",
              "2         Arkansas  POLYGON ((-94.0416 33.0225, -91.20569999999999...\n",
              "3          Arizona  POLYGON ((-112.5989 36.9993, -110.863 37.0004,...\n",
              "4       California  POLYGON ((-124.4009 41.9983, -123.6237 42.0024...\n",
              "5         Colorado  POLYGON ((-109.0448 37.0004, -102.0424 36.9949...\n",
              "6      Connecticut  POLYGON ((-73.4875 42.0498, -73.4247 42.0511, ...\n",
              "7         Delaware  POLYGON ((-75.7919 39.7188, -75.7837 39.521, -...\n",
              "8          Florida  POLYGON ((-87.605 30.9988, -86.5613 30.9964, -...\n",
              "9          Georgia  POLYGON ((-85.6082 34.9974, -84.7266 34.9906, ...\n",
              "10          Hawaii  POLYGON ((-154.6284 19.5158, -154.8235 19.8894...\n",
              "11            Iowa  POLYGON ((-95.7623 40.5848, -93.5445 40.5785, ...\n",
              "12           Idaho  POLYGON ((-117.0319 49, -116.0486 49.0018, -11...\n",
              "13        Illinois  POLYGON ((-90.629 42.5116, -87.0213 42.4924, -...\n",
              "14         Indiana  POLYGON ((-87.5253 41.7611, -84.809 41.7611, -...\n",
              "15          Kansas  POLYGON ((-102.0506 40.0034, -102.0506 40.0034...\n",
              "16        Kentucky  POLYGON ((-89.5372 36.4986, -89.301 36.5074, -...\n",
              "17       Louisiana  POLYGON ((-94.04300000000001 33.0225, -93.0048...\n",
              "18   Massachusetts  POLYGON ((-72.77889999999999 42.0003, -72.7405...\n",
              "19        Maryland  POLYGON ((-79.4778 39.722, -78.36 39.722, -75....\n",
              "20           Maine  POLYGON ((-71.0129 45.3425, -70.9525 45.3328, ...\n",
              "21        Michigan  POLYGON ((-88.37130000000001 48.3033, -87.605 ...\n",
              "22       Minnesota  POLYGON ((-96.4517 43.5008, -91.2195 43.5017, ...\n",
              "23        Missouri  POLYGON ((-91.74679999999999 40.6181, -91.6808...\n",
              "24     Mississippi  POLYGON ((-90.3049 35.0041, -88.1955 35.0075, ...\n",
              "25         Montana  POLYGON ((-111.0512 44.475, -111.3684 44.7311,...\n",
              "26  North Carolina  POLYGON ((-78.485 33.7963, -79.6742 34.8037, -...\n",
              "27    North Dakota  POLYGON ((-104.0501 48.9955, -104.0446 45.9445...\n",
              "28        Nebraska  POLYGON ((-104.0543 42.9986, -104.0543 41.0027...\n",
              "29   New Hampshire  POLYGON ((-71.50449999999999 45.0153, -71.4976...\n",
              "30      New Jersey  POLYGON ((-74.69499999999999 41.3572, -74.6559...\n",
              "31      New Mexico  POLYGON ((-109.0448 36.9971, -109.0489 31.3337...\n",
              "32          Nevada  POLYGON ((-120.0037 41.9922, -117.9602 42.0003...\n",
              "33        New York  POLYGON ((-79.7624 42.5142, -79.0672 42.7783, ...\n",
              "34            Ohio  POLYGON ((-82.3425 38.4385, -82.29170000000001...\n",
              "35        Oklahoma  POLYGON ((-103.0051 37.0015, -103.0037 36.503,...\n",
              "36          Oregon  POLYGON ((-124.2444 46.2587, -124.0384 46.2634...\n",
              "37    Pennsylvania  POLYGON ((-80.51739999999999 42.3261, -80.0821...\n",
              "38    Rhode Island  POLYGON ((-71.0568 41.3706, -71.05410000000001...\n",
              "39  South Carolina  POLYGON ((-80.70010000000001 32.0488, -80.8978...\n",
              "40    South Dakota  POLYGON ((-104.0501 45.9435, -104.0529 43.0026...\n",
              "41       Tennessee  POLYGON ((-88.06780000000001 36.6739, -87.8522...\n",
              "42           Texas  POLYGON ((-106.5715 31.8659, -106.5042 31.7504...\n",
              "43            Utah  POLYGON ((-114.0491 36.9982, -109.0462 37.0026...\n",
              "44        Virginia  POLYGON ((-83.67529999999999 36.6017, -83.5613...\n",
              "45         Vermont  POLYGON ((-73.34269999999999 45.0104, -73.1827...\n",
              "46      Washington  POLYGON ((-123.3208 49.0023, -123.0338 49.0027...\n",
              "47       Wisconsin  POLYGON ((-90.63030000000001 42.5116, -87.0241...\n",
              "48   West Virginia  POLYGON ((-79.4765 39.7188, -79.4806 39.2057, ...\n",
              "49         Wyoming  POLYGON ((-104.0556 41.0037, -104.0584 44.9949..."
            ]
          },
          "execution_count": 482,
          "metadata": {},
          "output_type": "execute_result"
        }
      ],
      "source": [
        "#Creating new states Pandas Dataframe from Spark Dataframe\n",
        "statesDF = states.toPandas()\n",
        "statesDF.rename(columns={\"s_name\":\"States\"}, inplace=True)\n",
        "#statesDF = statesDF.set_index('States')\n",
        "statesDF\n",
        "#statesDF['States']\n"
      ]
    },
    {
      "cell_type": "code",
      "execution_count": 522,
      "id": "1f439433",
      "metadata": {},
      "outputs": [
        {
          "data": {
            "text/plain": [
              "Alaska            180\n",
              "California        114\n",
              "Texas             100\n",
              "Florida            87\n",
              "Georgia            57\n",
              "North Carolina     42\n",
              "Michigan           42\n",
              "New York           39\n",
              "Kansas             39\n",
              "Wisconsin          38\n",
              "Washington         37\n",
              "Arizona            37\n",
              "Pennsylvania       36\n",
              "Ohio               35\n",
              "South Carolina     31\n",
              "Colorado           29\n",
              "Alabama            29\n",
              "Oklahoma           27\n",
              "Oregon             26\n",
              "Illinois           26\n",
              "Virginia           25\n",
              "New Mexico         25\n",
              "Indiana            24\n",
              "Minnesota          22\n",
              "Montana            20\n",
              "Hawaii             19\n",
              "Missouri           19\n",
              "Arkansas           19\n",
              "Mississippi        19\n",
              "Massachusetts      18\n",
              "Tennessee          17\n",
              "Wyoming            17\n",
              "Kentucky           17\n",
              "Nebraska           17\n",
              "Nevada             17\n",
              "Utah               16\n",
              "Iowa               16\n",
              "Louisiana          15\n",
              "Maine              14\n",
              "West Virginia      14\n",
              "Idaho              13\n",
              "New Jersey         13\n",
              "Maryland           12\n",
              "South Dakota       11\n",
              "North Dakota       11\n",
              "Connecticut        10\n",
              "New Hampshire       7\n",
              "Vermont             4\n",
              "Rhode Island        4\n",
              "Delaware            3\n",
              "Name: States, dtype: int64"
            ]
          },
          "execution_count": 522,
          "metadata": {},
          "output_type": "execute_result"
        }
      ],
      "source": [
        "#Creating Dataframe based on number of airports\n",
        "AirportCounts = AirportsPerState = geopandas_df['States'].value_counts()\n",
        "\n",
        "type(AirportCounts)\n",
        "AirportCounts"
      ]
    },
    {
      "cell_type": "code",
      "execution_count": 539,
      "id": "ca33dc4c",
      "metadata": {},
      "outputs": [
        {
          "data": {
            "text/html": [
              "<div>\n",
              "<style scoped>\n",
              "    .dataframe tbody tr th:only-of-type {\n",
              "        vertical-align: middle;\n",
              "    }\n",
              "\n",
              "    .dataframe tbody tr th {\n",
              "        vertical-align: top;\n",
              "    }\n",
              "\n",
              "    .dataframe thead th {\n",
              "        text-align: right;\n",
              "    }\n",
              "</style>\n",
              "<table border=\"1\" class=\"dataframe\">\n",
              "  <thead>\n",
              "    <tr style=\"text-align: right;\">\n",
              "      <th></th>\n",
              "      <th>s_bound</th>\n",
              "      <th>Airports</th>\n",
              "    </tr>\n",
              "  </thead>\n",
              "  <tbody>\n",
              "    <tr>\n",
              "      <th>Alaska</th>\n",
              "      <td>POLYGON ((-141.0205 70.0187, -141.7291 70.1292...</td>\n",
              "      <td>180</td>\n",
              "    </tr>\n",
              "    <tr>\n",
              "      <th>Alabama</th>\n",
              "      <td>POLYGON ((-88.1955 35.0041, -85.60680000000001...</td>\n",
              "      <td>29</td>\n",
              "    </tr>\n",
              "    <tr>\n",
              "      <th>Arkansas</th>\n",
              "      <td>POLYGON ((-94.0416 33.0225, -91.20569999999999...</td>\n",
              "      <td>19</td>\n",
              "    </tr>\n",
              "    <tr>\n",
              "      <th>Arizona</th>\n",
              "      <td>POLYGON ((-112.5989 36.9993, -110.863 37.0004,...</td>\n",
              "      <td>37</td>\n",
              "    </tr>\n",
              "    <tr>\n",
              "      <th>California</th>\n",
              "      <td>POLYGON ((-124.4009 41.9983, -123.6237 42.0024...</td>\n",
              "      <td>114</td>\n",
              "    </tr>\n",
              "  </tbody>\n",
              "</table>\n",
              "</div>"
            ],
            "text/plain": [
              "                                                      s_bound  Airports\n",
              "Alaska      POLYGON ((-141.0205 70.0187, -141.7291 70.1292...       180\n",
              "Alabama     POLYGON ((-88.1955 35.0041, -85.60680000000001...        29\n",
              "Arkansas    POLYGON ((-94.0416 33.0225, -91.20569999999999...        19\n",
              "Arizona     POLYGON ((-112.5989 36.9993, -110.863 37.0004,...        37\n",
              "California  POLYGON ((-124.4009 41.9983, -123.6237 42.0024...       114"
            ]
          },
          "execution_count": 539,
          "metadata": {},
          "output_type": "execute_result"
        }
      ],
      "source": [
        "type(statesDF)\n",
        "#statesDF = pd.merge(statesDF, AirportCountsDF,on=\"States\", how = \"right\")\n",
        "#statesDF.join(AirportCountsDF)\n",
        "#statesDF\n",
        "#statesDF\n",
        "\n",
        "#dgq = statesDF.merge(AirportCounts, left_index=True, right_index=True)\n",
        "#df.merge(s., )\n",
        "AirportCountDF = statesDF.set_index('States').merge(AirportCounts, left_index=True, right_index=True)\n",
        "AirportCountDF.rename(columns={\"States\":\"Airports\"}, inplace=True)\n",
        "AirportCountDF.head()\n",
        "\n"
      ]
    },
    {
      "cell_type": "code",
      "execution_count": 549,
      "id": "0fa5d1e5",
      "metadata": {},
      "outputs": [],
      "source": [
        "AirportCountGPDF = gpd.GeoDataFrame(AirportCountDF, geometry='s_bound')\n",
        "#gpd.GeoDataFrame(airportInState.toPandas(), geometry=\"s_bound\")\n"
      ]
    },
    {
      "cell_type": "code",
      "execution_count": 564,
      "id": "9d7d1231",
      "metadata": {},
      "outputs": [
        {
          "data": {
            "text/plain": [
              "Text(0.5, 1.0, 'States by number of airports')"
            ]
          },
          "execution_count": 564,
          "metadata": {},
          "output_type": "execute_result"
        },
        {
          "data": {
            "image/png": "[encoded data removed]",
            "text/plain": [
              "<Figure size 576x288 with 2 Axes>"
            ]
          },
          "metadata": {
            "needs_background": "light"
          },
          "output_type": "display_data"
        }
      ],
      "source": [
        "AirportCountGPDF.plot(column='Airports', cmap='plasma', legend=True);\n",
        "plt.title('States by number of airports')\n",
        "\n",
        "\n"
      ]
    }
  ],
  "metadata": {
    "colab": {
      "collapsed_sections": [],
      "name": "CPTS415_Hello World_4.ipynb",
      "provenance": []
    },
    "kernelspec": {
      "display_name": "Python 3 (ipykernel)",
      "language": "python",
      "name": "python3"
    },
    "language_info": {
      "codemirror_mode": {
        "name": "ipython",
        "version": 3
      },
      "file_extension": ".py",
      "mimetype": "text/x-python",
      "name": "python",
      "nbconvert_exporter": "python",
      "pygments_lexer": "ipython3",
      "version": "3.9.9"
    }
  },
  "nbformat": 4,
  "nbformat_minor": 5
}
